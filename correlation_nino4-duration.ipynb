{
 "cells": [
  {
   "cell_type": "code",
   "execution_count": 1,
   "metadata": {
    "collapsed": true
   },
   "outputs": [],
   "source": [
    "from preamble import *\n",
    "from scipy.stats import pearsonr"
   ]
  },
  {
   "cell_type": "code",
   "execution_count": 2,
   "metadata": {
    "collapsed": true
   },
   "outputs": [],
   "source": [
    "nino4 = pd.read_csv('Data/ENSO/Nino4/data_nino4.csv')"
   ]
  },
  {
   "cell_type": "code",
   "execution_count": 3,
   "metadata": {
    "collapsed": true
   },
   "outputs": [],
   "source": [
    "duration = pd.read_csv('Data/computed-data/computed_annual-intensification-duration_JTWC.csv')"
   ]
  },
  {
   "cell_type": "markdown",
   "metadata": {},
   "source": [
    "### Monthly Correlation"
   ]
  },
  {
   "cell_type": "code",
   "execution_count": 4,
   "metadata": {
    "collapsed": true
   },
   "outputs": [],
   "source": [
    "nino4_correlation = []\n",
    "nino4_anom_correlation = []\n",
    "\n",
    "for i in (np.arange(12)+1):\n",
    "    # Extract nino4 temperature for exactly one month each year\n",
    "    temp = nino4[nino4['month']==i]['nino4_temp'].values\n",
    "    # Calculate correlation with duration\n",
    "    nino4_correlation.append(pearsonr(duration['Intensification Duration'],temp)[0])\n",
    "    \n",
    "    \n",
    "    # Extract nino4 anomaly for exactly one month each year\n",
    "    anom = nino4[nino4['month']==i]['nino4_anom'].values\n",
    "    # Calculate correlation with duration\n",
    "    nino4_anom_correlation.append(pearsonr(duration['Intensification Duration'],anom)[0])"
   ]
  },
  {
   "cell_type": "code",
   "execution_count": 5,
   "metadata": {
    "collapsed": true
   },
   "outputs": [],
   "source": [
    "corr_table = pd.DataFrame({'month':(np.arange(12)+1),'corr_nino4':nino4_correlation,'corr_nino4_anom':nino4_anom_correlation})"
   ]
  },
  {
   "cell_type": "code",
   "execution_count": 6,
   "metadata": {},
   "outputs": [
    {
     "data": {
      "text/html": [
       "<div>\n",
       "<style>\n",
       "    .dataframe thead tr:only-child th {\n",
       "        text-align: right;\n",
       "    }\n",
       "\n",
       "    .dataframe thead th {\n",
       "        text-align: left;\n",
       "    }\n",
       "\n",
       "    .dataframe tbody tr th {\n",
       "        vertical-align: top;\n",
       "    }\n",
       "</style>\n",
       "<table border=\"1\" class=\"dataframe\">\n",
       "  <thead>\n",
       "    <tr style=\"text-align: right;\">\n",
       "      <th>month</th>\n",
       "      <th>1</th>\n",
       "      <th>2</th>\n",
       "      <th>3</th>\n",
       "      <th>4</th>\n",
       "      <th>5</th>\n",
       "      <th>6</th>\n",
       "      <th>7</th>\n",
       "      <th>8</th>\n",
       "      <th>9</th>\n",
       "      <th>10</th>\n",
       "      <th>11</th>\n",
       "      <th>12</th>\n",
       "    </tr>\n",
       "  </thead>\n",
       "  <tbody>\n",
       "    <tr>\n",
       "      <th>corr_nino4</th>\n",
       "      <td>0.210</td>\n",
       "      <td>0.278</td>\n",
       "      <td>0.311</td>\n",
       "      <td>0.417</td>\n",
       "      <td>0.446</td>\n",
       "      <td>0.535</td>\n",
       "      <td>0.598</td>\n",
       "      <td>0.608</td>\n",
       "      <td>0.559</td>\n",
       "      <td>0.582</td>\n",
       "      <td>0.566</td>\n",
       "      <td>0.541</td>\n",
       "    </tr>\n",
       "    <tr>\n",
       "      <th>corr_nino4_anom</th>\n",
       "      <td>0.209</td>\n",
       "      <td>0.279</td>\n",
       "      <td>0.310</td>\n",
       "      <td>0.418</td>\n",
       "      <td>0.446</td>\n",
       "      <td>0.534</td>\n",
       "      <td>0.599</td>\n",
       "      <td>0.607</td>\n",
       "      <td>0.559</td>\n",
       "      <td>0.583</td>\n",
       "      <td>0.565</td>\n",
       "      <td>0.541</td>\n",
       "    </tr>\n",
       "  </tbody>\n",
       "</table>\n",
       "</div>"
      ],
      "text/plain": [
       "month               1      2      3      4      5      6      7      8   \\\n",
       "corr_nino4       0.210  0.278  0.311  0.417  0.446  0.535  0.598  0.608   \n",
       "corr_nino4_anom  0.209  0.279  0.310  0.418  0.446  0.534  0.599  0.607   \n",
       "\n",
       "month               9      10     11     12  \n",
       "corr_nino4       0.559  0.582  0.566  0.541  \n",
       "corr_nino4_anom  0.559  0.583  0.565  0.541  "
      ]
     },
     "execution_count": 6,
     "metadata": {},
     "output_type": "execute_result"
    }
   ],
   "source": [
    "monthly_corr = corr_table.set_index('month')\n",
    "monthly_corr.round(3).transpose()"
   ]
  },
  {
   "cell_type": "markdown",
   "metadata": {},
   "source": [
    "### Quarterly Correlation"
   ]
  },
  {
   "cell_type": "code",
   "execution_count": 7,
   "metadata": {
    "collapsed": true
   },
   "outputs": [],
   "source": [
    "q_nino4_correlation = []\n",
    "q_nino4_anom_correlation = []\n",
    "\n",
    "for i in (np.arange(4)):\n",
    "    # Extract nino4 temperature for each quarter each year\n",
    "    temp = nino4[nino4['month'].between(3*i+1,3*(i+1))].groupby('year').mean()['nino4_temp'].values\n",
    "    # Calculate correlation with duration\n",
    "    q_nino4_correlation.append(pearsonr(duration['Intensification Duration'],temp)[0])\n",
    "    \n",
    "    \n",
    "    # Extract nino4 anomaly for each quarter each year\n",
    "    anom = nino4[nino4['month'].between(3*i+1,3*(i+1))].groupby('year').mean()['nino4_anom'].values\n",
    "    # Calculate correlation with duration\n",
    "    q_nino4_anom_correlation.append(pearsonr(duration['Intensification Duration'],anom)[0])"
   ]
  },
  {
   "cell_type": "code",
   "execution_count": 8,
   "metadata": {
    "collapsed": true
   },
   "outputs": [],
   "source": [
    "q_corr_table = pd.DataFrame({'quarter':['Jan-Mar','Apr-Jun','Jul-Sep','Oct-Dec'],'corr_nino4':q_nino4_correlation,'corr_nino4_anom':q_nino4_anom_correlation})"
   ]
  },
  {
   "cell_type": "code",
   "execution_count": 9,
   "metadata": {},
   "outputs": [
    {
     "data": {
      "text/html": [
       "<div>\n",
       "<style>\n",
       "    .dataframe thead tr:only-child th {\n",
       "        text-align: right;\n",
       "    }\n",
       "\n",
       "    .dataframe thead th {\n",
       "        text-align: left;\n",
       "    }\n",
       "\n",
       "    .dataframe tbody tr th {\n",
       "        vertical-align: top;\n",
       "    }\n",
       "</style>\n",
       "<table border=\"1\" class=\"dataframe\">\n",
       "  <thead>\n",
       "    <tr style=\"text-align: right;\">\n",
       "      <th>quarter</th>\n",
       "      <th>Jan-Mar</th>\n",
       "      <th>Apr-Jun</th>\n",
       "      <th>Jul-Sep</th>\n",
       "      <th>Oct-Dec</th>\n",
       "    </tr>\n",
       "  </thead>\n",
       "  <tbody>\n",
       "    <tr>\n",
       "      <th>corr_nino4</th>\n",
       "      <td>0.266</td>\n",
       "      <td>0.482</td>\n",
       "      <td>0.6</td>\n",
       "      <td>0.569</td>\n",
       "    </tr>\n",
       "    <tr>\n",
       "      <th>corr_nino4_anom</th>\n",
       "      <td>0.266</td>\n",
       "      <td>0.482</td>\n",
       "      <td>0.6</td>\n",
       "      <td>0.569</td>\n",
       "    </tr>\n",
       "  </tbody>\n",
       "</table>\n",
       "</div>"
      ],
      "text/plain": [
       "quarter          Jan-Mar  Apr-Jun  Jul-Sep  Oct-Dec\n",
       "corr_nino4         0.266    0.482      0.6    0.569\n",
       "corr_nino4_anom    0.266    0.482      0.6    0.569"
      ]
     },
     "execution_count": 9,
     "metadata": {},
     "output_type": "execute_result"
    }
   ],
   "source": [
    "q_corr = q_corr_table.set_index('quarter')\n",
    "q_corr.round(3).transpose()"
   ]
  },
  {
   "cell_type": "markdown",
   "metadata": {},
   "source": [
    "### Annual Correlation"
   ]
  },
  {
   "cell_type": "code",
   "execution_count": 10,
   "metadata": {},
   "outputs": [
    {
     "name": "stdout",
     "output_type": "stream",
     "text": [
      "Nino4 temperature correlation: 0.575\n",
      "Nino4 anomaly correlation    : 0.575\n"
     ]
    }
   ],
   "source": [
    "# Calculate correlation of annual nino4 temperature with duration\n",
    "print('Nino4 temperature correlation: {:.3f}'.format(pearsonr(duration['Intensification Duration'],\n",
    "                                                nino4.groupby('year').mean()['nino4_temp'].values)[0]))\n",
    "    \n",
    "# Calculate correlation of annual nino4 anomaly with duration\n",
    "print('Nino4 anomaly correlation    : {:.3f}'.format(pearsonr(duration['Intensification Duration'],\n",
    "                                                nino4.groupby('year').mean()['nino4_anom'].values)[0]))"
   ]
  },
  {
   "cell_type": "markdown",
   "metadata": {},
   "source": [
    "### July-Oct Correlation"
   ]
  },
  {
   "cell_type": "code",
   "execution_count": 11,
   "metadata": {},
   "outputs": [
    {
     "name": "stdout",
     "output_type": "stream",
     "text": [
      "Nino4 correlation July-Oct: 0.602\n"
     ]
    }
   ],
   "source": [
    "# Calculate correlation with duration\n",
    "print ('Nino4 correlation July-Oct: {:.3f}'.format((pearsonr(duration['Intensification Duration'],nino4[nino4['month'].between(7,10)].groupby('year').mean()['nino4_temp'].values)[0])))"
   ]
  },
  {
   "cell_type": "code",
   "execution_count": null,
   "metadata": {
    "collapsed": true
   },
   "outputs": [],
   "source": []
  }
 ],
 "metadata": {
  "kernelspec": {
   "display_name": "Python 3",
   "language": "python",
   "name": "python3"
  },
  "language_info": {
   "codemirror_mode": {
    "name": "ipython",
    "version": 3
   },
   "file_extension": ".py",
   "mimetype": "text/x-python",
   "name": "python",
   "nbconvert_exporter": "python",
   "pygments_lexer": "ipython3",
   "version": "3.6.1"
  }
 },
 "nbformat": 4,
 "nbformat_minor": 2
}
