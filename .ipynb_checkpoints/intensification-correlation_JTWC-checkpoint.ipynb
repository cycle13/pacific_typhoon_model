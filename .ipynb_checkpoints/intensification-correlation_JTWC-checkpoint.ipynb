{
 "cells": [
  {
   "cell_type": "code",
   "execution_count": 1,
   "metadata": {},
   "outputs": [],
   "source": [
    "from preamble import *"
   ]
  },
  {
   "cell_type": "code",
   "execution_count": 2,
   "metadata": {
    "collapsed": true
   },
   "outputs": [],
   "source": [
    "#------------------------------------------------------------#\n",
    "MaxIntFilter = 64 #knots\n",
    "#------------------------------------------------------------#"
   ]
  },
  {
   "cell_type": "code",
   "execution_count": 3,
   "metadata": {},
   "outputs": [],
   "source": [
    "# Load the ibtracs dataset\n",
    "dataset = pd.read_csv('Data/IBTrACS/data_ibtracs_JTWC.csv')\n",
    "\n",
    "# Apply VMAX corrections\n",
    "dataset['A_VMAX'] = 0.1884 * dataset['VMAX']**1.288\n",
    "dataset['VMAX2'] = 0\n",
    "dataset.loc[dataset['YEAR'] < 1968, 'VMAX2'] = 0.4 * dataset['VMAX'] + 0.6 * dataset['A_VMAX']\n",
    "dataset.loc[dataset['YEAR'].between(1968,1972), 'VMAX2'] = 0.8 * dataset['VMAX'] + 0.2 * dataset['A_VMAX']\n",
    "dataset.loc[dataset['YEAR'] > 1972, 'VMAX2'] = dataset['VMAX']\n",
    "dataset = dataset.drop(['VMAX','A_VMAX'], axis=1)\n",
    "dataset = dataset.rename(columns={'VMAX2': 'VMAX'})"
   ]
  },
  {
   "cell_type": "code",
   "execution_count": 4,
   "metadata": {
    "scrolled": false
   },
   "outputs": [
    {
     "data": {
      "text/html": [
       "<div>\n",
       "<style>\n",
       "    .dataframe thead tr:only-child th {\n",
       "        text-align: right;\n",
       "    }\n",
       "\n",
       "    .dataframe thead th {\n",
       "        text-align: left;\n",
       "    }\n",
       "\n",
       "    .dataframe tbody tr th {\n",
       "        vertical-align: top;\n",
       "    }\n",
       "</style>\n",
       "<table border=\"1\" class=\"dataframe\">\n",
       "  <thead>\n",
       "    <tr style=\"text-align: right;\">\n",
       "      <th></th>\n",
       "      <th>BASIN</th>\n",
       "      <th>CycNo</th>\n",
       "      <th>DIST2LAND</th>\n",
       "      <th>GENESIS</th>\n",
       "      <th>LANDFALL</th>\n",
       "      <th>LAT</th>\n",
       "      <th>LON</th>\n",
       "      <th>S_TIME</th>\n",
       "      <th>YEAR</th>\n",
       "      <th>VMAX</th>\n",
       "    </tr>\n",
       "  </thead>\n",
       "  <tbody>\n",
       "    <tr>\n",
       "      <th>0</th>\n",
       "      <td>2.0</td>\n",
       "      <td>5453.0</td>\n",
       "      <td>1943.0</td>\n",
       "      <td>2.0</td>\n",
       "      <td>1943.0</td>\n",
       "      <td>8.6</td>\n",
       "      <td>167.999996</td>\n",
       "      <td>33725.00</td>\n",
       "      <td>1951.0</td>\n",
       "      <td>46.054183</td>\n",
       "    </tr>\n",
       "    <tr>\n",
       "      <th>1</th>\n",
       "      <td>2.0</td>\n",
       "      <td>5453.0</td>\n",
       "      <td>2018.0</td>\n",
       "      <td>2.0</td>\n",
       "      <td>2018.0</td>\n",
       "      <td>8.5</td>\n",
       "      <td>168.799996</td>\n",
       "      <td>33725.25</td>\n",
       "      <td>1951.0</td>\n",
       "      <td>54.897904</td>\n",
       "    </tr>\n",
       "    <tr>\n",
       "      <th>2</th>\n",
       "      <td>2.0</td>\n",
       "      <td>5453.0</td>\n",
       "      <td>2085.0</td>\n",
       "      <td>2.0</td>\n",
       "      <td>2085.0</td>\n",
       "      <td>8.5</td>\n",
       "      <td>169.499996</td>\n",
       "      <td>33725.50</td>\n",
       "      <td>1951.0</td>\n",
       "      <td>63.945675</td>\n",
       "    </tr>\n",
       "    <tr>\n",
       "      <th>3</th>\n",
       "      <td>2.0</td>\n",
       "      <td>5453.0</td>\n",
       "      <td>2135.0</td>\n",
       "      <td>2.0</td>\n",
       "      <td>2135.0</td>\n",
       "      <td>8.5</td>\n",
       "      <td>170.099996</td>\n",
       "      <td>33725.75</td>\n",
       "      <td>1951.0</td>\n",
       "      <td>68.540112</td>\n",
       "    </tr>\n",
       "    <tr>\n",
       "      <th>4</th>\n",
       "      <td>2.0</td>\n",
       "      <td>5453.0</td>\n",
       "      <td>2198.0</td>\n",
       "      <td>2.0</td>\n",
       "      <td>2198.0</td>\n",
       "      <td>8.6</td>\n",
       "      <td>170.799996</td>\n",
       "      <td>33726.00</td>\n",
       "      <td>1951.0</td>\n",
       "      <td>73.178898</td>\n",
       "    </tr>\n",
       "  </tbody>\n",
       "</table>\n",
       "</div>"
      ],
      "text/plain": [
       "   BASIN   CycNo  DIST2LAND  GENESIS  LANDFALL  LAT         LON    S_TIME  \\\n",
       "0    2.0  5453.0     1943.0      2.0    1943.0  8.6  167.999996  33725.00   \n",
       "1    2.0  5453.0     2018.0      2.0    2018.0  8.5  168.799996  33725.25   \n",
       "2    2.0  5453.0     2085.0      2.0    2085.0  8.5  169.499996  33725.50   \n",
       "3    2.0  5453.0     2135.0      2.0    2135.0  8.5  170.099996  33725.75   \n",
       "4    2.0  5453.0     2198.0      2.0    2198.0  8.6  170.799996  33726.00   \n",
       "\n",
       "     YEAR       VMAX  \n",
       "0  1951.0  46.054183  \n",
       "1  1951.0  54.897904  \n",
       "2  1951.0  63.945675  \n",
       "3  1951.0  68.540112  \n",
       "4  1951.0  73.178898  "
      ]
     },
     "execution_count": 4,
     "metadata": {},
     "output_type": "execute_result"
    }
   ],
   "source": [
    "dataset.head()"
   ]
  },
  {
   "cell_type": "code",
   "execution_count": 5,
   "metadata": {},
   "outputs": [],
   "source": [
    "# Determine maximum intensity of the each cyclone\n",
    "max_int = dataset.groupby('CycNo')['VMAX'].max().rename('VMAX').reset_index()\n",
    "\n",
    "# Remove cyclones with maximum intensity lower than defined\n",
    "max_int = max_int[max_int['VMAX'] > MaxIntFilter]\n",
    "dataset = dataset[dataset['CycNo'].isin(max_int['CycNo'])]"
   ]
  },
  {
   "cell_type": "code",
   "execution_count": 6,
   "metadata": {},
   "outputs": [],
   "source": [
    "# Remove cylones that did not start in West Pacific\n",
    "# dataset = dataset[dataset['GENESIS']==2]"
   ]
  },
  {
   "cell_type": "code",
   "execution_count": 7,
   "metadata": {},
   "outputs": [
    {
     "name": "stdout",
     "output_type": "stream",
     "text": [
      "Number of cyclones for investigation: 938\n"
     ]
    }
   ],
   "source": [
    "print('Number of cyclones for investigation: {}'.format(dataset['CycNo'].nunique()))"
   ]
  },
  {
   "cell_type": "markdown",
   "metadata": {},
   "source": [
    "### 1. Average Maximum Intensity"
   ]
  },
  {
   "cell_type": "code",
   "execution_count": 8,
   "metadata": {},
   "outputs": [],
   "source": [
    "# Determine the years in which the cyclones occured\n",
    "year_occur = dataset.groupby('CycNo')['YEAR'].agg(lambda x: stats.mode(x)[0][0]).astype(int).reset_index()"
   ]
  },
  {
   "cell_type": "code",
   "execution_count": 9,
   "metadata": {
    "collapsed": true
   },
   "outputs": [],
   "source": [
    "# Determine maximum intensity of each cyclone\n",
    "max_int = dataset.groupby('CycNo')['VMAX'].max().reset_index()"
   ]
  },
  {
   "cell_type": "code",
   "execution_count": 10,
   "metadata": {},
   "outputs": [],
   "source": [
    "# Create a table containing metrics for each cyclones\n",
    "cyclone_metrics = year_occur.merge(max_int, on ='CycNo', how='inner')"
   ]
  },
  {
   "cell_type": "code",
   "execution_count": 24,
   "metadata": {},
   "outputs": [],
   "source": [
    "# Calculate annual mean of intensity\n",
    "annual_cyclone_metrics = cyclone_metrics.groupby(['YEAR'])['VMAX'].mean().reset_index()\n",
    "\n",
    "# Convert data to m/s\n",
    "annual_cyclone_metrics['VMAX'] = annual_cyclone_metrics['VMAX']*0.514444\n",
    "\n",
    "# Creat TIME column for plotting\n",
    "annual_cyclone_metrics['TIME'] = pd.to_datetime(annual_cyclone_metrics['YEAR'], format='%Y')"
   ]
  },
  {
   "cell_type": "code",
   "execution_count": 25,
   "metadata": {},
   "outputs": [],
   "source": [
    "# Calculate decadal mean for maximum intensity\n",
    "rolling_vmax = annual_cyclone_metrics\n",
    "rolling_vmax = rolling_vmax.set_index('TIME')\n",
    "\n",
    "rolling_vmax = rolling_vmax.rolling(min_periods=9, window=9, center=True)['VMAX'].mean()\n",
    "rolling_vmax = rolling_vmax.rename('9-year average VMAX').reset_index()\n",
    "\n",
    "# Merge with original cyclone metrics dataframe\n",
    "annual_cyclone_metrics = annual_cyclone_metrics.merge(rolling_vmax, on ='TIME', how='inner')"
   ]
  },
  {
   "cell_type": "code",
   "execution_count": 27,
   "metadata": {},
   "outputs": [
    {
     "data": {
      "image/png": "[encoded data removed]",
      "text/plain": [
       "<matplotlib.figure.Figure at 0x11c651c18>"
      ]
     },
     "metadata": {},
     "output_type": "display_data"
    }
   ],
   "source": [
    "ax = annual_cyclone_metrics.plot('TIME', ['VMAX','9-year average VMAX'])\n",
    "plt.ylabel('Average Peak Intensity (m/s)')\n",
    "plt.xlabel('Year')\n",
    "plt.show()"
   ]
  },
  {
   "cell_type": "markdown",
   "metadata": {},
   "source": [
    "### 2. Average Intensification Rate"
   ]
  },
  {
   "cell_type": "code",
   "execution_count": 39,
   "metadata": {
    "scrolled": true
   },
   "outputs": [
    {
     "data": {
      "text/html": [
       "<div>\n",
       "<style>\n",
       "    .dataframe thead tr:only-child th {\n",
       "        text-align: right;\n",
       "    }\n",
       "\n",
       "    .dataframe thead th {\n",
       "        text-align: left;\n",
       "    }\n",
       "\n",
       "    .dataframe tbody tr th {\n",
       "        vertical-align: top;\n",
       "    }\n",
       "</style>\n",
       "<table border=\"1\" class=\"dataframe\">\n",
       "  <thead>\n",
       "    <tr style=\"text-align: right;\">\n",
       "      <th></th>\n",
       "      <th>BASIN</th>\n",
       "      <th>CycNo</th>\n",
       "      <th>DIST2LAND</th>\n",
       "      <th>GENESIS</th>\n",
       "      <th>LANDFALL</th>\n",
       "      <th>LAT</th>\n",
       "      <th>LON</th>\n",
       "      <th>S_TIME</th>\n",
       "      <th>YEAR</th>\n",
       "      <th>VMAX</th>\n",
       "      <th>TIMESTAMP</th>\n",
       "    </tr>\n",
       "  </thead>\n",
       "  <tbody>\n",
       "    <tr>\n",
       "      <th>0</th>\n",
       "      <td>2.0</td>\n",
       "      <td>5453.0</td>\n",
       "      <td>1943.0</td>\n",
       "      <td>2.0</td>\n",
       "      <td>1943.0</td>\n",
       "      <td>8.6</td>\n",
       "      <td>167.999996</td>\n",
       "      <td>33725.00</td>\n",
       "      <td>1951.0</td>\n",
       "      <td>46.054183</td>\n",
       "      <td>1951-03-20 00:00:00</td>\n",
       "    </tr>\n",
       "    <tr>\n",
       "      <th>1</th>\n",
       "      <td>2.0</td>\n",
       "      <td>5453.0</td>\n",
       "      <td>2018.0</td>\n",
       "      <td>2.0</td>\n",
       "      <td>2018.0</td>\n",
       "      <td>8.5</td>\n",
       "      <td>168.799996</td>\n",
       "      <td>33725.25</td>\n",
       "      <td>1951.0</td>\n",
       "      <td>54.897904</td>\n",
       "      <td>1951-03-20 06:00:00</td>\n",
       "    </tr>\n",
       "    <tr>\n",
       "      <th>2</th>\n",
       "      <td>2.0</td>\n",
       "      <td>5453.0</td>\n",
       "      <td>2085.0</td>\n",
       "      <td>2.0</td>\n",
       "      <td>2085.0</td>\n",
       "      <td>8.5</td>\n",
       "      <td>169.499996</td>\n",
       "      <td>33725.50</td>\n",
       "      <td>1951.0</td>\n",
       "      <td>63.945675</td>\n",
       "      <td>1951-03-20 12:00:00</td>\n",
       "    </tr>\n",
       "    <tr>\n",
       "      <th>3</th>\n",
       "      <td>2.0</td>\n",
       "      <td>5453.0</td>\n",
       "      <td>2135.0</td>\n",
       "      <td>2.0</td>\n",
       "      <td>2135.0</td>\n",
       "      <td>8.5</td>\n",
       "      <td>170.099996</td>\n",
       "      <td>33725.75</td>\n",
       "      <td>1951.0</td>\n",
       "      <td>68.540112</td>\n",
       "      <td>1951-03-20 18:00:00</td>\n",
       "    </tr>\n",
       "    <tr>\n",
       "      <th>4</th>\n",
       "      <td>2.0</td>\n",
       "      <td>5453.0</td>\n",
       "      <td>2198.0</td>\n",
       "      <td>2.0</td>\n",
       "      <td>2198.0</td>\n",
       "      <td>8.6</td>\n",
       "      <td>170.799996</td>\n",
       "      <td>33726.00</td>\n",
       "      <td>1951.0</td>\n",
       "      <td>73.178898</td>\n",
       "      <td>1951-03-21 00:00:00</td>\n",
       "    </tr>\n",
       "  </tbody>\n",
       "</table>\n",
       "</div>"
      ],
      "text/plain": [
       "   BASIN   CycNo  DIST2LAND  GENESIS  LANDFALL  LAT         LON    S_TIME  \\\n",
       "0    2.0  5453.0     1943.0      2.0    1943.0  8.6  167.999996  33725.00   \n",
       "1    2.0  5453.0     2018.0      2.0    2018.0  8.5  168.799996  33725.25   \n",
       "2    2.0  5453.0     2085.0      2.0    2085.0  8.5  169.499996  33725.50   \n",
       "3    2.0  5453.0     2135.0      2.0    2135.0  8.5  170.099996  33725.75   \n",
       "4    2.0  5453.0     2198.0      2.0    2198.0  8.6  170.799996  33726.00   \n",
       "\n",
       "     YEAR       VMAX           TIMESTAMP  \n",
       "0  1951.0  46.054183 1951-03-20 00:00:00  \n",
       "1  1951.0  54.897904 1951-03-20 06:00:00  \n",
       "2  1951.0  63.945675 1951-03-20 12:00:00  \n",
       "3  1951.0  68.540112 1951-03-20 18:00:00  \n",
       "4  1951.0  73.178898 1951-03-21 00:00:00  "
      ]
     },
     "execution_count": 39,
     "metadata": {},
     "output_type": "execute_result"
    }
   ],
   "source": [
    "dataset.head()"
   ]
  },
  {
   "cell_type": "code",
   "execution_count": 29,
   "metadata": {},
   "outputs": [],
   "source": [
    "dataset['TIMESTAMP'] = pd.to_datetime('1858-11-17', format='%Y-%m-%d') + pd.to_timedelta(dataset['S_TIME'], unit='d')"
   ]
  },
  {
   "cell_type": "code",
   "execution_count": 65,
   "metadata": {
    "collapsed": true
   },
   "outputs": [],
   "source": [
    "def int_rate(data):\n",
    "    data = data[(data.index >= data[data['VMAX']>=64].index[0]-1) & (data.index <= data['VMAX'].idxmax()+1)]\n",
    "    data = data.set_index('TIMESTAMP')\n",
    "    data = data.resample('6h').interpolate(method='time').reset_index()\n",
    "    result = data['VMAX'].rolling(min_periods=3, window=3, center=True).apply(lambda x: (x[2] - x[0])/2)\n",
    "    return result.mean()"
   ]
  },
  {
   "cell_type": "code",
   "execution_count": 66,
   "metadata": {},
   "outputs": [],
   "source": [
    "# Calculate average intensification rate\n",
    "ave_int_rate = dataset.groupby('CycNo').apply(int_rate).rename('Intensification Rate').reset_index()"
   ]
  },
  {
   "cell_type": "code",
   "execution_count": 101,
   "metadata": {},
   "outputs": [
    {
     "data": {
      "text/html": [
       "<div>\n",
       "<style>\n",
       "    .dataframe thead tr:only-child th {\n",
       "        text-align: right;\n",
       "    }\n",
       "\n",
       "    .dataframe thead th {\n",
       "        text-align: left;\n",
       "    }\n",
       "\n",
       "    .dataframe tbody tr th {\n",
       "        vertical-align: top;\n",
       "    }\n",
       "</style>\n",
       "<table border=\"1\" class=\"dataframe\">\n",
       "  <thead>\n",
       "    <tr style=\"text-align: right;\">\n",
       "      <th></th>\n",
       "      <th>CycNo</th>\n",
       "      <th>Intensification Rate</th>\n",
       "    </tr>\n",
       "  </thead>\n",
       "  <tbody>\n",
       "    <tr>\n",
       "      <th>55</th>\n",
       "      <td>5852.0</td>\n",
       "      <td>NaN</td>\n",
       "    </tr>\n",
       "    <tr>\n",
       "      <th>160</th>\n",
       "      <td>6680.0</td>\n",
       "      <td>NaN</td>\n",
       "    </tr>\n",
       "  </tbody>\n",
       "</table>\n",
       "</div>"
      ],
      "text/plain": [
       "      CycNo  Intensification Rate\n",
       "55   5852.0                   NaN\n",
       "160  6680.0                   NaN"
      ]
     },
     "execution_count": 101,
     "metadata": {},
     "output_type": "execute_result"
    }
   ],
   "source": [
    "# List cyclones with invalid intensification rate\n",
    "ave_int_rate[ave_int_rate.isnull().any(axis=1)]"
   ]
  },
  {
   "cell_type": "code",
   "execution_count": 68,
   "metadata": {
    "scrolled": true
   },
   "outputs": [
    {
     "data": {
      "image/png": "[encoded data removed]",
      "text/plain": [
       "<matplotlib.figure.Figure at 0x11c6b6358>"
      ]
     },
     "metadata": {},
     "output_type": "display_data"
    }
   ],
   "source": [
    "# Make plots of the evolution profiles for invalid cyclones\n",
    "fig, axs = plt.subplots(1,2,figsize=(15, 5))\n",
    "dataset[dataset['CycNo']==5852].plot('TIMESTAMP','VMAX',ax=axs[0])\n",
    "dataset[dataset['CycNo']==6680].plot('TIMESTAMP','VMAX',ax=axs[1])\n",
    "plt.show()"
   ]
  },
  {
   "cell_type": "markdown",
   "metadata": {},
   "source": [
    "### 3. Average Intensification Duration"
   ]
  },
  {
   "cell_type": "code",
   "execution_count": 99,
   "metadata": {
    "collapsed": true
   },
   "outputs": [],
   "source": [
    "def duration(data):\n",
    "    time_start = data[data['VMAX']>=64].iloc[0]['S_TIME']\n",
    "    time_peak = data['S_TIME'][data['VMAX'].idxmax()]\n",
    "    return (time_peak-time_start)\n",
    "\n",
    "# Determine average intensification duration\n",
    "int_duration = dataset.groupby('CycNo').apply(duration)"
   ]
  },
  {
   "cell_type": "code",
   "execution_count": 100,
   "metadata": {},
   "outputs": [
    {
     "data": {
      "text/plain": [
       "array([  5504.,   5506.,   5563.,   5583.,   5649.,   5673.,   5679.,\n",
       "         5704.,   5774.,   5800.,   5843.,   5852.,   5908.,   5951.,\n",
       "         6013.,   6038.,   6070.,   6078.,   6102.,   6195.,   6290.,\n",
       "         6345.,   6402.,   6522.,   6680.,   6681.,   6757.,   6852.,\n",
       "         7052.,   7091.,   7096.,   7105.,   7112.,   7190.,   7210.,\n",
       "         7324.,   7451.,   7459.,   7510.,   7521.,   7786.,   7854.,\n",
       "         7972.,   7976.,   7987.,   8218.,   8267.,   8363.,   8384.,\n",
       "         8497.,   8663.,   8743.,   8763.,   8993.,   8994.,   9069.,\n",
       "         9084.,   9247.,   9281.,   9317.,   9318.,   9435.,   9443.,\n",
       "         9645.,   9733.,   9736.,   9892.,  10002.,  10093.,  10203.,\n",
       "        10304.,  10336.,  10426.,  10428.,  10430.,  10451.,  10528.,\n",
       "        10635.,  10646.,  10680.,  10762.,  10778.,  10880.,  10885.,\n",
       "        10920.,  10927.,  10994.,  11139.,  11364.,  11407.,  11510.,\n",
       "        11517.,  11622.,  11678.,  11726.,  11730.,  11939.,  12119.,\n",
       "        12137.,  12224.,  12236.])"
      ]
     },
     "execution_count": 100,
     "metadata": {},
     "output_type": "execute_result"
    }
   ],
   "source": [
    "# List cyclones with invalid intensification duration\n",
    "int_duration[int_duration == 0].index.values"
   ]
  },
  {
   "cell_type": "code",
   "execution_count": 111,
   "metadata": {},
   "outputs": [
    {
     "ename": "TypeError",
     "evalue": "'AxesSubplot' object is not iterable",
     "output_type": "error",
     "traceback": [
      "\u001b[0;31m---------------------------------------------------------------------------\u001b[0m",
      "\u001b[0;31mTypeError\u001b[0m                                 Traceback (most recent call last)",
      "\u001b[0;32m<ipython-input-111-6c2f875cf219>\u001b[0m in \u001b[0;36m<module>\u001b[0;34m()\u001b[0m\n\u001b[1;32m      1\u001b[0m \u001b[0mtest_set\u001b[0m \u001b[0;34m=\u001b[0m \u001b[0mdataset\u001b[0m\u001b[0;34m[\u001b[0m\u001b[0mdataset\u001b[0m\u001b[0;34m[\u001b[0m\u001b[0;34m'CycNo'\u001b[0m\u001b[0;34m]\u001b[0m\u001b[0;34m==\u001b[0m\u001b[0;36m12224\u001b[0m\u001b[0;34m]\u001b[0m\u001b[0;34m\u001b[0m\u001b[0m\n\u001b[0;32m----> 2\u001b[0;31m \u001b[0max\u001b[0m\u001b[0;34m,\u001b[0m \u001b[0mfig\u001b[0m \u001b[0;34m=\u001b[0m \u001b[0mtest_set\u001b[0m\u001b[0;34m.\u001b[0m\u001b[0mplot\u001b[0m\u001b[0;34m(\u001b[0m\u001b[0;34m'TIMESTAMP'\u001b[0m\u001b[0;34m,\u001b[0m\u001b[0;34m'VMAX'\u001b[0m\u001b[0;34m)\u001b[0m\u001b[0;34m\u001b[0m\u001b[0m\n\u001b[0m\u001b[1;32m      3\u001b[0m \u001b[0mplt\u001b[0m\u001b[0;34m.\u001b[0m\u001b[0mplot\u001b[0m\u001b[0;34m(\u001b[0m\u001b[0mtest_set\u001b[0m\u001b[0;34m[\u001b[0m\u001b[0;34m'TIMESTAMP'\u001b[0m\u001b[0;34m]\u001b[0m\u001b[0;34m,\u001b[0m\u001b[0;36m64\u001b[0m\u001b[0;34m*\u001b[0m\u001b[0mnp\u001b[0m\u001b[0;34m.\u001b[0m\u001b[0mones\u001b[0m\u001b[0;34m(\u001b[0m\u001b[0mnp\u001b[0m\u001b[0;34m.\u001b[0m\u001b[0mshape\u001b[0m\u001b[0;34m(\u001b[0m\u001b[0mtest_set\u001b[0m\u001b[0;34m[\u001b[0m\u001b[0;34m'TIMESTAMP'\u001b[0m\u001b[0;34m]\u001b[0m\u001b[0;34m)\u001b[0m\u001b[0;34m)\u001b[0m\u001b[0;34m,\u001b[0m\u001b[0max\u001b[0m\u001b[0;34m=\u001b[0m\u001b[0max\u001b[0m\u001b[0;34m)\u001b[0m\u001b[0;34m\u001b[0m\u001b[0m\n\u001b[1;32m      4\u001b[0m \u001b[0mplt\u001b[0m\u001b[0;34m.\u001b[0m\u001b[0mshow\u001b[0m\u001b[0;34m(\u001b[0m\u001b[0;34m)\u001b[0m\u001b[0;34m\u001b[0m\u001b[0m\n",
      "\u001b[0;31mTypeError\u001b[0m: 'AxesSubplot' object is not iterable"
     ]
    }
   ],
   "source": [
    "test_set = dataset[dataset['CycNo']==12224]\n",
    "ax = test_set.plot('TIMESTAMP','VMAX')\n",
    "plt.plot(test_set['TIMESTAMP'],64*np.ones(np.shape(test_set['TIMESTAMP'])),ax=ax)\n",
    "plt.show()"
   ]
  },
  {
   "cell_type": "code",
   "execution_count": 107,
   "metadata": {},
   "outputs": [
    {
     "data": {
      "image/png": "[encoded data removed]",
      "text/plain": [
       "<matplotlib.figure.Figure at 0x11b5eb2b0>"
      ]
     },
     "metadata": {},
     "output_type": "display_data"
    }
   ],
   "source": [
    "plt.plot(test_set['TIMESTAMP'],64*np.ones(np.shape(test_set['TIMESTAMP'])))\n",
    "plt.show()"
   ]
  },
  {
   "cell_type": "code",
   "execution_count": null,
   "metadata": {
    "collapsed": true
   },
   "outputs": [],
   "source": []
  }
 ],
 "metadata": {
  "kernelspec": {
   "display_name": "Python 3",
   "language": "python",
   "name": "python3"
  },
  "language_info": {
   "codemirror_mode": {
    "name": "ipython",
    "version": 3
   },
   "file_extension": ".py",
   "mimetype": "text/x-python",
   "name": "python",
   "nbconvert_exporter": "python",
   "pygments_lexer": "ipython3",
   "version": "3.6.1"
  }
 },
 "nbformat": 4,
 "nbformat_minor": 2
}
