{
 "cells": [
  {
   "cell_type": "code",
   "execution_count": 1,
   "metadata": {
    "collapsed": true
   },
   "outputs": [],
   "source": [
    "from preamble import *"
   ]
  },
  {
   "cell_type": "code",
   "execution_count": 5,
   "metadata": {
    "collapsed": true
   },
   "outputs": [],
   "source": [
    "#------------------------------------------------------------#\n",
    "MaxIntFilter = 64 #knots\n",
    "#------------------------------------------------------------#"
   ]
  },
  {
   "cell_type": "code",
   "execution_count": 6,
   "metadata": {
    "collapsed": true
   },
   "outputs": [],
   "source": [
    "# Load the ibtracs dataset\n",
    "dataset = pd.read_csv('Data/IBTrACS/data_ibtracs_JTWC.csv')\n",
    "\n",
    "# Apply VMAX corrections\n",
    "dataset['A_VMAX'] = 0.1884 * dataset['VMAX']**1.288\n",
    "dataset['VMAX2'] = 0\n",
    "dataset.loc[dataset['YEAR'] < 1968, 'VMAX2'] = 0.4 * dataset['VMAX'] + 0.6 * dataset['A_VMAX']\n",
    "dataset.loc[dataset['YEAR'].between(1968,1972), 'VMAX2'] = 0.8 * dataset['VMAX'] + 0.2 * dataset['A_VMAX']\n",
    "dataset.loc[dataset['YEAR'] > 1972, 'VMAX2'] = dataset['VMAX']\n",
    "dataset = dataset.drop(['VMAX','A_VMAX'], axis=1)\n",
    "dataset = dataset.rename(columns={'VMAX2': 'VMAX'})"
   ]
  },
  {
   "cell_type": "code",
   "execution_count": 7,
   "metadata": {},
   "outputs": [],
   "source": [
    "# Determine maximum intensity of the each cyclone\n",
    "max_int = dataset.groupby('CycNo')['VMAX'].max().rename('VMAX').reset_index()\n",
    "\n",
    "# Remove cyclones with maximum intensity lower than defined\n",
    "max_int = max_int[max_int['VMAX'] > MaxIntFilter]\n",
    "dataset = dataset[dataset['CycNo'].isin(max_int['CycNo'])]"
   ]
  },
  {
   "cell_type": "code",
   "execution_count": 9,
   "metadata": {},
   "outputs": [
    {
     "data": {
      "text/plain": [
       "938"
      ]
     },
     "execution_count": 9,
     "metadata": {},
     "output_type": "execute_result"
    }
   ],
   "source": [
    "dataset['CycNo'].nunique()"
   ]
  },
  {
   "cell_type": "code",
   "execution_count": 60,
   "metadata": {
    "collapsed": true
   },
   "outputs": [],
   "source": [
    "def influence(data):\n",
    "    peak_time = test_set['S_TIME'][test_set['VMAX'].idxmax()]\n",
    "    landfall_time = test_set[test_set['LANDFALL'] < 100].iloc[0]['S_TIME']\n",
    "    if landfall_time <= peak_time:\n",
    "        return True\n",
    "    else:\n",
    "        return False"
   ]
  },
  {
   "cell_type": "code",
   "execution_count": 61,
   "metadata": {},
   "outputs": [],
   "source": [
    "effect_data = dataset.groupby('CycNo').apply(influence)"
   ]
  },
  {
   "cell_type": "code",
   "execution_count": 62,
   "metadata": {},
   "outputs": [
    {
     "data": {
      "text/plain": [
       "0"
      ]
     },
     "execution_count": 62,
     "metadata": {},
     "output_type": "execute_result"
    }
   ],
   "source": [
    "len(effect_data[effect_data == True])"
   ]
  }
 ],
 "metadata": {
  "kernelspec": {
   "display_name": "Python 3",
   "language": "python",
   "name": "python3"
  },
  "language_info": {
   "codemirror_mode": {
    "name": "ipython",
    "version": 3
   },
   "file_extension": ".py",
   "mimetype": "text/x-python",
   "name": "python",
   "nbconvert_exporter": "python",
   "pygments_lexer": "ipython3",
   "version": "3.6.1"
  }
 },
 "nbformat": 4,
 "nbformat_minor": 2
}
