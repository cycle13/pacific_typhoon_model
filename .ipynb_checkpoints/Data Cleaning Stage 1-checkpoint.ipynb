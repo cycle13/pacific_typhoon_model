{
 "cells": [
  {
   "cell_type": "code",
   "execution_count": 1,
   "metadata": {
    "collapsed": true
   },
   "outputs": [],
   "source": [
    "import pandas as pd\n",
    "from datetime import datetime"
   ]
  },
  {
   "cell_type": "code",
   "execution_count": 2,
   "metadata": {
    "collapsed": true
   },
   "outputs": [],
   "source": [
    "dataset = pd.read_csv('data.csv', low_memory=False) "
   ]
  },
  {
   "cell_type": "code",
   "execution_count": 3,
   "metadata": {
    "collapsed": true
   },
   "outputs": [],
   "source": [
    "dataset = pd.read_csv('data.csv', low_memory=False) \n",
    "\n",
    "# Determine max wind of the each cyclone\n",
    "max_wind = dataset.groupby('CycNo')['VMAX'].max().rename('VMAX').reset_index()\n",
    "\n",
    "# Remove cyclones with no vmax data\n",
    "max_wind = max_wind[max_wind['VMAX']!=0]\n",
    "\n",
    "# Keep relevant cyclones\n",
    "dataset = dataset[dataset['CycNo'].isin(max_wind['CycNo'])]"
   ]
  },
  {
   "cell_type": "code",
   "execution_count": 4,
   "metadata": {
    "collapsed": true
   },
   "outputs": [],
   "source": [
    "# Provide time details\n",
    "dataset['TIME'] = pd.to_datetime(dataset['YYYYMMDDHH'], format='%Y%m%d%H')\n",
    "dataset['MONTH'] = pd.to_numeric(dataset['TIME'].dt.strftime('%m'))\n",
    "dataset['YEAR'] = pd.to_numeric(dataset['TIME'].dt.strftime('%Y'))\n",
    "dataset['DAY'] = pd.to_numeric(dataset['TIME'].dt.strftime('%d'))\n",
    "dataset['HOUR'] = pd.to_numeric(dataset['TIME'].dt.strftime('%H'))"
   ]
  },
  {
   "cell_type": "code",
   "execution_count": 5,
   "metadata": {
    "collapsed": true
   },
   "outputs": [],
   "source": [
    "def convert(a):\n",
    "    \"\"\"\n",
    "    Convert longitude and latitude strings to float values\n",
    "\n",
    "    Parameters\n",
    "    ----------\n",
    "    a : string\n",
    "        String representing longitude and latitude in the dataset\n",
    "    \n",
    "    Returns\n",
    "    -------\n",
    "    float\n",
    "        Longitude and latitude float value\n",
    "\n",
    "    \"\"\"\n",
    "\n",
    "    # Break down characters in the string\n",
    "    A = list(a)\n",
    "\n",
    "    # For each character\n",
    "    for i in A:\n",
    "\n",
    "        # Remove any spacebar\n",
    "        if i == ' ':\n",
    "            A.remove(i)\n",
    "        \n",
    "        # If North then it is positive, remove letter N\n",
    "        elif i == 'N':\n",
    "            A.remove(i)\n",
    "            \n",
    "        # If South then it is negative, add negative sign, remove letter S\n",
    "        elif i == 'S':\n",
    "            A.remove(i)\n",
    "            A.insert(0,'-')\n",
    "        \n",
    "        # If East then it is positive, remove letter E       \n",
    "        elif i == 'E':\n",
    "            A.remove(i)\n",
    "    \n",
    "        # If West then it is negative, add negative sign, remove letter W\n",
    "        elif i == 'W':\n",
    "            A.remove(i)\n",
    "            A.insert(0,'-')\n",
    "        \n",
    "    # Join all characters together to form a float value        \n",
    "    return float(\"\".join(A))/10.\n",
    "\n",
    "dataset['LAT'] = dataset['LatN/S'].apply(convert)\n",
    "dataset['LON'] = dataset['LonE/W'].apply(convert)\n",
    "\n",
    "def region_check(row):\n",
    "    lat = row['LAT']\n",
    "    lon = row['LON']\n",
    "    \n",
    "    if lat <= 30 and lat >= 13 and lon <= 153 and lon >= 120:\n",
    "        return True\n",
    "    else:\n",
    "        return False\n",
    "\n",
    "dataset['REGION'] = dataset.apply(region_check, axis = 1)\n",
    "\n",
    "def region_check2(series):\n",
    "    if any(series['REGION']):\n",
    "        return True\n",
    "    else:\n",
    "        return False\n",
    "\n",
    "region_result = dataset.groupby('CycNo').apply(region_check2)\n",
    "\n",
    "dataset = dataset.merge(region_result.rename('REGION2').reset_index(), on ='CycNo', how='inner')"
   ]
  },
  {
   "cell_type": "code",
   "execution_count": 6,
   "metadata": {
    "collapsed": true
   },
   "outputs": [],
   "source": [
    "# Select only data in the region\n",
    "dataset = dataset[dataset['REGION2']==True]"
   ]
  },
  {
   "cell_type": "code",
   "execution_count": 7,
   "metadata": {
    "collapsed": true
   },
   "outputs": [],
   "source": [
    "dataset['A_VMAX'] = 0.1884 * dataset['VMAX']**1.288\n",
    "dataset['VMAX2'] = 0\n",
    "dataset.loc[dataset['YEAR'] < 1968, 'VMAX2'] = 0.4 * dataset['VMAX'] + 0.6 * dataset['A_VMAX']\n",
    "dataset.loc[dataset['YEAR'].between(1968,1972), 'VMAX2'] = 0.8 * dataset['VMAX'] + 0.2 * dataset['A_VMAX']\n",
    "dataset.loc[dataset['YEAR'] > 1972, 'VMAX2'] = dataset['VMAX']\n",
    "\n",
    "# Determine max wind of the each cyclone\n",
    "max_wind = dataset.groupby('CycNo')['VMAX2'].max().rename('VMAX2').reset_index()\n",
    "\n",
    "# Remove cyclones with maximum windspeed lower than typhoon 64 knots\n",
    "max_wind = max_wind[max_wind['VMAX2']>64]\n",
    "\n",
    "# Keep relevant cyclones\n",
    "dataset = dataset[dataset['CycNo'].isin(max_wind['CycNo'])]"
   ]
  },
  {
   "cell_type": "code",
   "execution_count": 8,
   "metadata": {
    "collapsed": true
   },
   "outputs": [],
   "source": [
    "dataset = dataset.drop('VMAX', axis=1)\n",
    "dataset = dataset.rename(columns={'VMAX2': 'VMAX'})"
   ]
  },
  {
   "cell_type": "code",
   "execution_count": 9,
   "metadata": {
    "collapsed": true
   },
   "outputs": [],
   "source": [
    "column_list = ['CycNo','VMAX','YEAR','MONTH','DAY','HOUR','TIME','LAT','LON']\n",
    "\n",
    "dataset_clean = dataset[column_list]"
   ]
  },
  {
   "cell_type": "code",
   "execution_count": 10,
   "metadata": {},
   "outputs": [
    {
     "data": {
      "text/plain": [
       "820"
      ]
     },
     "execution_count": 10,
     "metadata": {},
     "output_type": "execute_result"
    }
   ],
   "source": [
    "dataset_clean['CycNo'].nunique()"
   ]
  },
  {
   "cell_type": "code",
   "execution_count": 11,
   "metadata": {
    "collapsed": true
   },
   "outputs": [],
   "source": [
    "dataset_clean.to_csv('clean_data_test.csv', index=False)"
   ]
  }
 ],
 "metadata": {
  "kernelspec": {
   "display_name": "Python 2",
   "language": "python",
   "name": "python2"
  },
  "language_info": {
   "codemirror_mode": {
    "name": "ipython",
    "version": 3
   },
   "file_extension": ".py",
   "mimetype": "text/x-python",
   "name": "python",
   "nbconvert_exporter": "python",
   "pygments_lexer": "ipython3",
   "version": "3.6.1"
  }
 },
 "nbformat": 4,
 "nbformat_minor": 2
}
