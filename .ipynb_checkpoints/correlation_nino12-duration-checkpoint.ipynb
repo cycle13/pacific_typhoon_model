{
 "cells": [
  {
   "cell_type": "code",
   "execution_count": 1,
   "metadata": {
    "collapsed": true
   },
   "outputs": [],
   "source": [
    "from preamble import *\n",
    "from scipy.stats import pearsonr"
   ]
  },
  {
   "cell_type": "code",
   "execution_count": 2,
   "metadata": {
    "collapsed": true
   },
   "outputs": [],
   "source": [
    "nino12 = pd.read_csv('Data/ENSO/Nino12/data_nino12.csv')"
   ]
  },
  {
   "cell_type": "code",
   "execution_count": 3,
   "metadata": {
    "collapsed": true
   },
   "outputs": [],
   "source": [
    "duration = pd.read_csv('Data/computed-data/computed_annual-intensification-duration_JTWC.csv')"
   ]
  },
  {
   "cell_type": "markdown",
   "metadata": {},
   "source": [
    "### Monthly Correlation"
   ]
  },
  {
   "cell_type": "code",
   "execution_count": 4,
   "metadata": {
    "collapsed": true
   },
   "outputs": [],
   "source": [
    "nino12_correlation = []\n",
    "\n",
    "for i in (np.arange(12)+1):\n",
    "    # Extract nino4 temperature for exactly one month each year\n",
    "    temp = nino12[nino12['month']==i]['nino12'].values\n",
    "    # Calculate correlation with duration\n",
    "    nino12_correlation.append(pearsonr(duration['Intensification Duration'],temp)[0])"
   ]
  },
  {
   "cell_type": "code",
   "execution_count": 5,
   "metadata": {
    "collapsed": true
   },
   "outputs": [],
   "source": [
    "corr_table = pd.DataFrame({'month':(np.arange(12)+1),'corr_nino12':nino12_correlation})"
   ]
  },
  {
   "cell_type": "code",
   "execution_count": 6,
   "metadata": {},
   "outputs": [
    {
     "data": {
      "text/html": [
       "<div>\n",
       "<style>\n",
       "    .dataframe thead tr:only-child th {\n",
       "        text-align: right;\n",
       "    }\n",
       "\n",
       "    .dataframe thead th {\n",
       "        text-align: left;\n",
       "    }\n",
       "\n",
       "    .dataframe tbody tr th {\n",
       "        vertical-align: top;\n",
       "    }\n",
       "</style>\n",
       "<table border=\"1\" class=\"dataframe\">\n",
       "  <thead>\n",
       "    <tr style=\"text-align: right;\">\n",
       "      <th>month</th>\n",
       "      <th>1</th>\n",
       "      <th>2</th>\n",
       "      <th>3</th>\n",
       "      <th>4</th>\n",
       "      <th>5</th>\n",
       "      <th>6</th>\n",
       "      <th>7</th>\n",
       "      <th>8</th>\n",
       "      <th>9</th>\n",
       "      <th>10</th>\n",
       "      <th>11</th>\n",
       "      <th>12</th>\n",
       "    </tr>\n",
       "  </thead>\n",
       "  <tbody>\n",
       "    <tr>\n",
       "      <th>corr_nino12</th>\n",
       "      <td>-0.025</td>\n",
       "      <td>0.078</td>\n",
       "      <td>0.174</td>\n",
       "      <td>0.227</td>\n",
       "      <td>0.166</td>\n",
       "      <td>0.192</td>\n",
       "      <td>0.138</td>\n",
       "      <td>0.163</td>\n",
       "      <td>0.353</td>\n",
       "      <td>0.397</td>\n",
       "      <td>0.441</td>\n",
       "      <td>0.405</td>\n",
       "    </tr>\n",
       "  </tbody>\n",
       "</table>\n",
       "</div>"
      ],
      "text/plain": [
       "month           1      2      3      4      5      6      7      8      9   \\\n",
       "corr_nino12 -0.025  0.078  0.174  0.227  0.166  0.192  0.138  0.163  0.353   \n",
       "\n",
       "month           10     11     12  \n",
       "corr_nino12  0.397  0.441  0.405  "
      ]
     },
     "execution_count": 6,
     "metadata": {},
     "output_type": "execute_result"
    }
   ],
   "source": [
    "monthly_corr = corr_table.set_index('month')\n",
    "monthly_corr.round(3).transpose()"
   ]
  },
  {
   "cell_type": "markdown",
   "metadata": {},
   "source": [
    "### Quarterly Correlation"
   ]
  },
  {
   "cell_type": "code",
   "execution_count": 8,
   "metadata": {
    "collapsed": true
   },
   "outputs": [],
   "source": [
    "q_nino12_correlation = []\n",
    "\n",
    "for i in (np.arange(4)):\n",
    "    # Extract nino4 temperature for each quarter each year\n",
    "    temp = nino12[nino12['month'].between(3*i+1,3*(i+1))].groupby('year').mean()['nino12'].values\n",
    "    # Calculate correlation with duration\n",
    "    q_nino12_correlation.append(pearsonr(duration['Intensification Duration'],temp)[0])"
   ]
  },
  {
   "cell_type": "code",
   "execution_count": 9,
   "metadata": {
    "collapsed": true
   },
   "outputs": [],
   "source": [
    "q_corr_table = pd.DataFrame({'quarter':['Jan-Mar','Apr-Jun','Jul-Sep','Oct-Dec'],'corr_nino12':q_nino12_correlation})"
   ]
  },
  {
   "cell_type": "code",
   "execution_count": 10,
   "metadata": {},
   "outputs": [
    {
     "data": {
      "text/html": [
       "<div>\n",
       "<style>\n",
       "    .dataframe thead tr:only-child th {\n",
       "        text-align: right;\n",
       "    }\n",
       "\n",
       "    .dataframe thead th {\n",
       "        text-align: left;\n",
       "    }\n",
       "\n",
       "    .dataframe tbody tr th {\n",
       "        vertical-align: top;\n",
       "    }\n",
       "</style>\n",
       "<table border=\"1\" class=\"dataframe\">\n",
       "  <thead>\n",
       "    <tr style=\"text-align: right;\">\n",
       "      <th>quarter</th>\n",
       "      <th>Jan-Mar</th>\n",
       "      <th>Apr-Jun</th>\n",
       "      <th>Jul-Sep</th>\n",
       "      <th>Oct-Dec</th>\n",
       "    </tr>\n",
       "  </thead>\n",
       "  <tbody>\n",
       "    <tr>\n",
       "      <th>corr_nino12</th>\n",
       "      <td>0.081</td>\n",
       "      <td>0.2</td>\n",
       "      <td>0.216</td>\n",
       "      <td>0.422</td>\n",
       "    </tr>\n",
       "  </tbody>\n",
       "</table>\n",
       "</div>"
      ],
      "text/plain": [
       "quarter      Jan-Mar  Apr-Jun  Jul-Sep  Oct-Dec\n",
       "corr_nino12    0.081      0.2    0.216    0.422"
      ]
     },
     "execution_count": 10,
     "metadata": {},
     "output_type": "execute_result"
    }
   ],
   "source": [
    "q_corr = q_corr_table.set_index('quarter')\n",
    "q_corr.round(3).transpose()"
   ]
  },
  {
   "cell_type": "markdown",
   "metadata": {},
   "source": [
    "### Annual Correlation"
   ]
  },
  {
   "cell_type": "code",
   "execution_count": 11,
   "metadata": {},
   "outputs": [
    {
     "name": "stdout",
     "output_type": "stream",
     "text": [
      "Nino12 temperature correlation: 0.276\n"
     ]
    }
   ],
   "source": [
    "# Calculate correlation of annual nino4 temperature with duration\n",
    "print('Nino12 temperature correlation: {:.3f}'.format(pearsonr(duration['Intensification Duration'],\n",
    "                                                nino12.groupby('year').mean()['nino12'].values)[0]))"
   ]
  },
  {
   "cell_type": "markdown",
   "metadata": {},
   "source": [
    "### July-Oct Correlation"
   ]
  },
  {
   "cell_type": "code",
   "execution_count": 19,
   "metadata": {},
   "outputs": [
    {
     "name": "stdout",
     "output_type": "stream",
     "text": [
      "Nino12 correlation July-Oct: 0.266\n"
     ]
    }
   ],
   "source": [
    "# Calculate correlation with duration\n",
    "print ('Nino12 correlation July-Oct: {:.3f}'.format((pearsonr(duration['Intensification Duration'],nino12[nino12['month'].between(7,10)].groupby('year').mean()['nino12'].values)[0])))"
   ]
  },
  {
   "cell_type": "code",
   "execution_count": null,
   "metadata": {
    "collapsed": true
   },
   "outputs": [],
   "source": []
  }
 ],
 "metadata": {
  "kernelspec": {
   "display_name": "Python 3",
   "language": "python",
   "name": "python3"
  },
  "language_info": {
   "codemirror_mode": {
    "name": "ipython",
    "version": 3
   },
   "file_extension": ".py",
   "mimetype": "text/x-python",
   "name": "python",
   "nbconvert_exporter": "python",
   "pygments_lexer": "ipython3",
   "version": "3.6.1"
  }
 },
 "nbformat": 4,
 "nbformat_minor": 2
}
