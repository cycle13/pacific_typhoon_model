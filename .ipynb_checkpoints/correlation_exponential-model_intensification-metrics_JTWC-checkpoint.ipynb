{
 "cells": [
  {
   "cell_type": "code",
   "execution_count": 1,
   "metadata": {
    "collapsed": true
   },
   "outputs": [],
   "source": [
    "from preamble import *"
   ]
  },
  {
   "cell_type": "code",
   "execution_count": 2,
   "metadata": {
    "collapsed": true
   },
   "outputs": [],
   "source": [
    "#------------------------------------------------------------#\n",
    "# MaxIntFilter = 33/0.514444 #knots\n",
    "MaxIntFilter = 64\n",
    "#------------------------------------------------------------#"
   ]
  },
  {
   "cell_type": "code",
   "execution_count": 3,
   "metadata": {
    "collapsed": true
   },
   "outputs": [],
   "source": [
    "# Load the ibtracs dataset\n",
    "dataset = pd.read_csv('Data/IBTrACS/data_ibtracs_JTWC.csv')\n",
    "\n",
    "# Apply VMAX corrections\n",
    "dataset['A_VMAX'] = 0.1884 * dataset['VMAX']**1.288\n",
    "dataset['VMAX2'] = 0\n",
    "dataset.loc[dataset['YEAR'] < 1968, 'VMAX2'] = 0.4 * dataset['VMAX'] + 0.6 * dataset['A_VMAX']\n",
    "dataset.loc[dataset['YEAR'].between(1968,1972), 'VMAX2'] = 0.8 * dataset['VMAX'] + 0.2 * dataset['A_VMAX']\n",
    "dataset.loc[dataset['YEAR'] > 1972, 'VMAX2'] = dataset['VMAX']\n",
    "dataset = dataset.drop(['VMAX','A_VMAX'], axis=1)\n",
    "dataset = dataset.rename(columns={'VMAX2': 'VMAX'})"
   ]
  },
  {
   "cell_type": "code",
   "execution_count": 4,
   "metadata": {
    "collapsed": true
   },
   "outputs": [],
   "source": [
    "# Determine maximum intensity of the each cyclone\n",
    "max_int = dataset.groupby('CycNo')['VMAX'].max().rename('VMAX').reset_index()\n",
    "\n",
    "# Remove cyclones with maximum intensity lower than defined\n",
    "max_int = max_int[max_int['VMAX'] >= MaxIntFilter]\n",
    "dataset = dataset[dataset['CycNo'].isin(max_int['CycNo'])]"
   ]
  },
  {
   "cell_type": "code",
   "execution_count": 5,
   "metadata": {
    "collapsed": true
   },
   "outputs": [],
   "source": [
    "# Remove cyclones moved over land during its intensification\n",
    "def influence(data):\n",
    "    landfall = data[(data.index >= data[data['VMAX']>=MaxIntFilter].index[0]) & (data.index < (data['VMAX'].idxmax()))]\n",
    "    if any(landfall['LANDFALL']==0):\n",
    "        return True\n",
    "    else:\n",
    "        return False\n",
    "    \n",
    "affected_cyclones = dataset.groupby('CycNo').apply(influence).rename('affected').reset_index()\n",
    "affected_cyclones = affected_cyclones[affected_cyclones['affected']==False]\n",
    "dataset = dataset[dataset['CycNo'].isin(affected_cyclones['CycNo'])]"
   ]
  },
  {
   "cell_type": "code",
   "execution_count": 6,
   "metadata": {
    "collapsed": true
   },
   "outputs": [],
   "source": [
    "# Filter out cyclones which starts with typhoon intensity\n",
    "affected_cyclones = dataset.groupby('CycNo').apply(lambda x: x.iloc[0]['VMAX'] > MaxIntFilter)\n",
    "affected_cyclones = affected_cyclones[affected_cyclones==False].reset_index()\n",
    "dataset = dataset[dataset['CycNo'].isin(affected_cyclones['CycNo'])]"
   ]
  },
  {
   "cell_type": "code",
   "execution_count": 7,
   "metadata": {
    "collapsed": true
   },
   "outputs": [],
   "source": [
    "# Filter out cyclones which has dips below threshold\n",
    "def dip(data):\n",
    "    landfall = data[(data.index >= data[data['VMAX']>=MaxIntFilter].index[0]) & (data.index <= (data['VMAX'].idxmax()))]\n",
    "    if any(landfall['VMAX']<MaxIntFilter):\n",
    "        return True\n",
    "    else:\n",
    "        return False\n",
    "\n",
    "affected_cyclones = dataset.groupby('CycNo').apply(dip).rename('affected').reset_index()\n",
    "affected_cyclones = affected_cyclones[affected_cyclones['affected']==False]\n",
    "dataset = dataset[dataset['CycNo'].isin(affected_cyclones['CycNo'])]"
   ]
  },
  {
   "cell_type": "markdown",
   "metadata": {},
   "source": [
    "### 1. Average Maximum Intensity"
   ]
  },
  {
   "cell_type": "code",
   "execution_count": 8,
   "metadata": {
    "collapsed": true
   },
   "outputs": [],
   "source": [
    "dataset['TIMESTAMP'] = pd.to_datetime('1858-11-17', format='%Y-%m-%d') + pd.to_timedelta(dataset['S_TIME'], unit='d')"
   ]
  },
  {
   "cell_type": "code",
   "execution_count": 9,
   "metadata": {
    "collapsed": true
   },
   "outputs": [],
   "source": [
    "# Determine the years in which the cyclones occured\n",
    "year_occur = dataset.groupby('CycNo')['TIMESTAMP'].apply(lambda x: x.iloc[0].year).astype(int).rename('YEAR').reset_index()"
   ]
  },
  {
   "cell_type": "code",
   "execution_count": 10,
   "metadata": {
    "collapsed": true
   },
   "outputs": [],
   "source": [
    "# Determine maximum intensity of each cyclone\n",
    "max_int = dataset.groupby('CycNo')['VMAX'].max().reset_index()"
   ]
  },
  {
   "cell_type": "code",
   "execution_count": 11,
   "metadata": {
    "collapsed": true
   },
   "outputs": [],
   "source": [
    "# Create a table containing metrics for each cyclones\n",
    "cyclone_metrics = year_occur.merge(max_int, on ='CycNo', how='inner')"
   ]
  },
  {
   "cell_type": "markdown",
   "metadata": {},
   "source": [
    "### 2. Average Intensification Rate"
   ]
  },
  {
   "cell_type": "code",
   "execution_count": 12,
   "metadata": {},
   "outputs": [
    {
     "data": {
      "text/plain": [
       "array([  5453.,   5459.,   5468.,   5481.,   5490.,   5495.,   5504.,\n",
       "         5506.,   5511.,   5517.,   5518.,   5521.,   5527.,   5530.,\n",
       "         5563.,   5568.,   5575.,   5583.,   5598.,   5609.,   5617.,\n",
       "         5620.,   5621.,   5623.,   5636.,   5639.,   5649.,   5664.,\n",
       "         5668.,   5673.,   5679.,   5693.,   5697.,   5704.,   5710.,\n",
       "         5712.,   5724.,   5743.,   5767.,   5769.,   5774.,   5780.,\n",
       "         5784.,   5800.,   5805.,   5810.,   5813.,   5815.,   5818.,\n",
       "         5843.,   5858.,   5864.,   5866.,   5892.,   5893.,   5897.,\n",
       "         5902.,   5908.,   5915.,   5919.,   5951.,   5959.,   5984.,\n",
       "         5994.,   6002.,   6003.,   6013.,   6014.,   6015.,   6028.,\n",
       "         6038.,   6053.,   6070.,   6071.,   6074.,   6078.,   6084.,\n",
       "         6090.,   6094.,   6102.,   6109.,   6113.,   6118.,   6119.,\n",
       "         6122.,   6130.,   6163.,   6170.,   6176.,   6178.,   6179.,\n",
       "         6184.,   6195.,   6199.,   6207.,   6212.,   6229.,   6230.,\n",
       "         6238.,   6242.,   6275.,   6290.,   6298.,   6303.,   6307.,\n",
       "         6310.,   6314.,   6323.,   6325.,   6336.,   6338.,   6345.,\n",
       "         6352.,   6354.,   6385.,   6393.,   6396.,   6399.,   6402.,\n",
       "         6411.,   6415.,   6432.,   6436.,   6437.,   6448.,   6453.,\n",
       "         6488.,   6493.,   6522.,   6524.,   6536.,   6543.,   6545.,\n",
       "         6554.,   6558.,   6580.,   6617.,   6638.,   6641.,   6645.,\n",
       "         6648.,   6652.,   6666.,   6668.,   6671.,   6675.,   6681.,\n",
       "         6682.,   6684.,   6736.,   6747.,   6755.,   6757.,   6761.,\n",
       "         6765.,   6769.,   6770.,   6773.,   6775.,   6789.,   6792.,\n",
       "         6794.,   6797.,   6817.,   6852.,   6859.,   6861.,   6864.,\n",
       "         6870.,   6872.,   6892.,   6894.,   6903.,   6911.,   6928.,\n",
       "         6937.,   6985.,   6987.,   7000.,   7006.,   7007.,   7016.,\n",
       "         7017.,   7024.,   7030.,   7033.,   7034.,   7047.,   7048.,\n",
       "         7052.,   7058.,   7091.,   7096.,   7100.,   7105.,   7112.,\n",
       "         7120.,   7123.,   7128.,   7129.,   7138.,   7148.,   7149.,\n",
       "         7162.,   7170.,   7190.,   7210.,   7219.,   7237.,   7272.,\n",
       "         7274.,   7282.,   7291.,   7311.,   7314.,   7321.,   7324.,\n",
       "         7325.,   7327.,   7365.,   7367.,   7376.,   7382.,   7417.,\n",
       "         7418.,   7429.,   7430.,   7433.,   7440.,   7443.,   7446.,\n",
       "         7448.,   7451.,   7455.,   7459.,   7460.,   7474.,   7498.,\n",
       "         7510.,   7513.,   7521.,   7526.,   7551.,   7570.,   7575.,\n",
       "         7578.,   7581.,   7610.,   7637.,   7665.,   7668.,   7676.,\n",
       "         7679.,   7698.,   7707.,   7712.,   7714.,   7727.,   7773.,\n",
       "         7775.,   7776.,   7781.,   7786.,   7792.,   7800.,   7802.,\n",
       "         7804.,   7807.,   7810.,   7822.,   7826.,   7834.,   7837.,\n",
       "         7842.,   7851.,   7854.,   7859.,   7878.,   7896.,   7925.,\n",
       "         7938.,   7939.,   7944.,   7950.,   7957.,   7972.,   7976.,\n",
       "         7978.,   7987.,   7993.,   7995.,   8001.,   8007.,   8015.,\n",
       "         8077.,   8082.,   8083.,   8086.,   8095.,   8096.,   8109.,\n",
       "         8114.,   8125.,   8126.,   8128.,   8190.,   8194.,   8204.,\n",
       "         8218.,   8226.,   8240.,   8247.,   8254.,   8261.,   8267.,\n",
       "         8273.,   8275.,   8280.,   8284.,   8305.,   8356.,   8362.,\n",
       "         8363.,   8364.,   8378.,   8384.,   8389.,   8390.,   8398.,\n",
       "         8402.,   8403.,   8419.,   8422.,   8443.,   8465.,   8479.,\n",
       "         8490.,   8493.,   8497.,   8505.,   8527.,   8534.,   8535.,\n",
       "         8537.,   8553.,   8612.,   8614.,   8617.,   8632.,   8639.,\n",
       "         8658.,   8663.,   8664.,   8670.,   8674.,   8707.,   8724.,\n",
       "         8729.,   8736.,   8743.,   8749.,   8761.,   8763.,   8770.,\n",
       "         8773.,   8777.,   8782.,   8784.,   8796.,   8806.,   8825.,\n",
       "         8833.,   8848.,   8859.,   8866.,   8869.,   8881.,   8886.,\n",
       "         8891.,   8895.,   8897.,   8904.,   8912.,   8953.,   8954.,\n",
       "         8965.,   8970.,   8972.,   8976.,   8983.,   8988.,   8993.,\n",
       "         8994.,   8995.,   9000.,   9009.,   9017.,   9053.,   9069.,\n",
       "         9070.,   9072.,   9084.,   9098.,   9101.,   9105.,   9110.,\n",
       "         9112.,   9116.,   9123.,   9132.,   9134.,   9141.,   9146.,\n",
       "         9170.,   9176.,   9184.,   9197.,   9198.,   9202.,   9204.,\n",
       "         9207.,   9208.,   9209.,   9214.,   9215.,   9220.,   9229.,\n",
       "         9232.,   9233.,   9245.,   9247.,   9281.,   9285.,   9290.,\n",
       "         9302.,   9308.,   9317.,   9318.,   9323.,   9325.,   9332.,\n",
       "         9334.,   9390.,   9393.,   9395.,   9403.,   9423.,   9435.,\n",
       "         9436.,   9442.,   9443.,   9445.,   9448.,   9451.,   9454.,\n",
       "         9458.,   9501.,   9507.,   9509.,   9518.,   9525.,   9531.,\n",
       "         9532.,   9533.,   9538.,   9558.,   9559.,   9562.,   9565.,\n",
       "         9568.,   9579.,   9595.,   9618.,   9621.,   9626.,   9632.,\n",
       "         9634.,   9645.,   9648.,   9649.,   9661.,   9664.,   9668.,\n",
       "         9671.,   9672.,   9684.,   9687.,   9690.,   9695.,   9728.,\n",
       "         9732.,   9733.,   9735.,   9736.,   9742.,   9743.,   9751.,\n",
       "         9757.,   9758.,   9760.,   9771.,   9777.,   9780.,   9787.,\n",
       "         9798.,   9816.,   9822.,   9828.,   9845.,   9855.,   9863.,\n",
       "         9880.,   9882.,   9886.,   9892.,   9894.,   9937.,   9942.,\n",
       "         9943.,   9946.,   9959.,   9968.,   9973.,   9976.,   9977.,\n",
       "        10002.,  10008.,  10009.,  10010.,  10015.,  10019.,  10021.,\n",
       "        10023.,  10024.,  10031.,  10034.,  10060.,  10071.,  10073.,\n",
       "        10086.,  10089.,  10093.,  10095.,  10099.,  10105.,  10109.,\n",
       "        10113.,  10114.,  10119.,  10125.,  10134.,  10142.,  10143.,\n",
       "        10146.,  10151.,  10166.,  10174.,  10187.,  10190.,  10193.,\n",
       "        10199.,  10201.,  10203.,  10210.,  10214.,  10217.,  10220.,\n",
       "        10225.,  10226.,  10232.,  10237.,  10247.,  10249.,  10256.,\n",
       "        10291.,  10298.,  10304.,  10311.,  10312.,  10314.,  10323.,\n",
       "        10328.,  10332.,  10336.,  10346.,  10352.,  10358.,  10361.,\n",
       "        10362.,  10366.,  10368.,  10373.,  10374.,  10416.,  10421.,\n",
       "        10426.,  10428.,  10429.,  10430.,  10435.,  10438.,  10444.,\n",
       "        10448.,  10451.,  10453.,  10455.,  10456.,  10457.,  10465.,\n",
       "        10473.,  10477.,  10480.,  10510.,  10515.,  10525.,  10528.,\n",
       "        10529.,  10540.,  10542.,  10548.,  10553.,  10557.,  10563.,\n",
       "        10566.,  10569.,  10578.,  10581.,  10582.,  10583.,  10586.,\n",
       "        10594.,  10630.,  10635.,  10639.,  10646.,  10652.,  10655.,\n",
       "        10659.,  10660.,  10665.,  10674.,  10679.,  10680.,  10681.,\n",
       "        10729.,  10740.,  10744.,  10745.,  10746.,  10747.,  10749.,\n",
       "        10752.,  10757.,  10758.,  10762.,  10769.,  10773.,  10774.,\n",
       "        10778.,  10779.,  10781.,  10787.,  10794.,  10801.,  10815.,\n",
       "        10845.,  10853.,  10855.,  10861.,  10872.,  10878.,  10880.,\n",
       "        10884.,  10885.,  10889.,  10893.,  10896.,  10900.,  10904.,\n",
       "        10907.,  10915.,  10916.,  10920.,  10927.,  10930.,  10977.,\n",
       "        10987.,  10994.,  10996.,  11004.,  11015.,  11019.,  11072.,\n",
       "        11073.,  11076.,  11093.,  11105.,  11108.,  11111.,  11118.,\n",
       "        11124.,  11127.,  11139.,  11176.,  11187.,  11188.,  11199.,\n",
       "        11211.,  11217.,  11223.,  11228.,  11230.,  11244.,  11249.,\n",
       "        11259.,  11286.,  11289.,  11290.,  11297.,  11298.,  11300.,\n",
       "        11304.,  11310.,  11315.,  11318.,  11323.,  11324.,  11327.,\n",
       "        11333.,  11340.,  11343.,  11350.,  11362.,  11364.,  11378.,\n",
       "        11391.,  11395.,  11397.,  11398.,  11400.,  11403.,  11407.,\n",
       "        11415.,  11420.,  11423.,  11441.,  11443.,  11456.,  11458.,\n",
       "        11488.,  11495.,  11501.,  11509.,  11510.,  11516.,  11517.,\n",
       "        11521.,  11529.,  11532.,  11538.,  11540.,  11552.,  11553.,\n",
       "        11560.,  11561.,  11588.,  11592.,  11597.,  11598.,  11601.,\n",
       "        11602.,  11603.,  11609.,  11615.,  11617.,  11622.,  11623.,\n",
       "        11630.,  11645.,  11648.,  11653.,  11656.,  11661.,  11666.,\n",
       "        11678.,  11695.,  11700.,  11703.,  11714.,  11722.,  11726.,\n",
       "        11730.,  11731.,  11735.,  11738.,  11740.,  11754.,  11755.,\n",
       "        11757.,  11767.,  11774.,  11777.,  11816.,  11822.,  11827.,\n",
       "        11832.,  11850.,  11857.,  11868.,  11873.,  11876.,  11881.,\n",
       "        11904.,  11909.,  11919.,  11924.,  11929.,  11932.,  11935.,\n",
       "        11939.,  11941.,  11944.,  11955.,  11956.,  11962.,  11972.,\n",
       "        11973.,  12000.,  12005.,  12008.,  12019.,  12025.,  12035.,\n",
       "        12045.,  12049.,  12050.,  12078.,  12104.,  12105.,  12108.,\n",
       "        12119.,  12125.,  12132.,  12137.,  12147.,  12148.,  12151.,\n",
       "        12154.,  12157.,  12161.,  12165.,  12172.,  12216.,  12224.,\n",
       "        12229.,  12236.,  12239.,  12241.,  12250.,  12253.])"
      ]
     },
     "execution_count": 12,
     "metadata": {},
     "output_type": "execute_result"
    }
   ],
   "source": [
    "np.unique(dataset['CycNo'])"
   ]
  },
  {
   "cell_type": "code",
   "execution_count": 13,
   "metadata": {
    "collapsed": true
   },
   "outputs": [],
   "source": [
    "test = dataset[dataset['CycNo']==5453]"
   ]
  },
  {
   "cell_type": "code",
   "execution_count": 15,
   "metadata": {},
   "outputs": [
    {
     "data": {
      "image/png": "[encoded data removed]",
      "text/plain": [
       "<matplotlib.figure.Figure at 0x111c58e48>"
      ]
     },
     "metadata": {},
     "output_type": "display_data"
    }
   ],
   "source": [
    "test.plot('TIMESTAMP','VMAX')\n",
    "plt.show()"
   ]
  },
  {
   "cell_type": "code",
   "execution_count": 27,
   "metadata": {},
   "outputs": [],
   "source": [
    "def growth_curve(data):\n",
    "    # Normalise VMAX\n",
    "    max_speed = data['VMAX'].max()\n",
    "    data_select = data[(data['VMAX'] >= MaxIntFilter) & (data['VMAX'] <= max_speed)][['S_TIME','VMAX']]\n",
    "    data_select['VMAX_n'] = data_select['VMAX']/max_speed\n",
    "\n",
    "    # Calculate time to peak intesity\n",
    "    time_peak = data['S_TIME'][data['VMAX'].idxmax()]\n",
    "    data_select['time_n'] = data_select['S_TIME'] - time_peak\n",
    "    return data_select"
   ]
  },
  {
   "cell_type": "code",
   "execution_count": 32,
   "metadata": {},
   "outputs": [],
   "source": [
    "growth = dataset.groupby('CycNo').apply(growth_curve).reset_index()\n",
    "growth_average = growth.groupby('time_n')['VMAX_n'].mean().reset_index()"
   ]
  },
  {
   "cell_type": "code",
   "execution_count": 35,
   "metadata": {},
   "outputs": [
    {
     "data": {
      "image/png": "[encoded data removed]",
      "text/plain": [
       "<matplotlib.figure.Figure at 0x111c153c8>"
      ]
     },
     "metadata": {},
     "output_type": "display_data"
    }
   ],
   "source": [
    "growth_average.plot('time_n','VMAX_n')\n",
    "plt.show()"
   ]
  },
  {
   "cell_type": "code",
   "execution_count": null,
   "metadata": {
    "collapsed": true
   },
   "outputs": [],
   "source": []
  },
  {
   "cell_type": "code",
   "execution_count": null,
   "metadata": {
    "collapsed": true
   },
   "outputs": [],
   "source": []
  },
  {
   "cell_type": "code",
   "execution_count": null,
   "metadata": {
    "collapsed": true
   },
   "outputs": [],
   "source": []
  },
  {
   "cell_type": "code",
   "execution_count": null,
   "metadata": {
    "collapsed": true
   },
   "outputs": [],
   "source": [
    "def int_rate(data):\n",
    "    data = data[(data.index >= data[data['VMAX']>=MaxIntFilter].index[0]-1) & (data.index <= (data['VMAX'].idxmax()+1))]\n",
    "    rate = (data['VMAX'] - data['VMAX'].shift(2))/(data['S_TIME'] - data['S_TIME'].shift(2))*0.25\n",
    "    return rate.mean()\n",
    "\n",
    "# Calculate average intensification rate\n",
    "ave_int_rate = dataset.groupby('CycNo').apply(int_rate).rename('Intensification Rate').reset_index()"
   ]
  },
  {
   "cell_type": "code",
   "execution_count": null,
   "metadata": {},
   "outputs": [],
   "source": [
    "# List cyclones with invalid intensification rate\n",
    "invalid_cyclone = ave_int_rate[ave_int_rate.isnull().any(axis=1)]['CycNo'].values\n",
    "invalid_cyclone"
   ]
  },
  {
   "cell_type": "code",
   "execution_count": null,
   "metadata": {
    "collapsed": true
   },
   "outputs": [],
   "source": [
    "cyclone_metrics = cyclone_metrics.merge(ave_int_rate, on ='CycNo', how='inner')"
   ]
  },
  {
   "cell_type": "markdown",
   "metadata": {},
   "source": [
    "### 3. Average Intensification Duration"
   ]
  },
  {
   "cell_type": "code",
   "execution_count": null,
   "metadata": {
    "collapsed": true
   },
   "outputs": [],
   "source": [
    "def duration(data):\n",
    "    # Find the time for peak\n",
    "    time_peak = data['S_TIME'][data['VMAX'].idxmax()]\n",
    "\n",
    "    # Select the 2 points between the start of intensification\n",
    "    start_data = data[(data.index >= data[data['VMAX']>=MaxIntFilter].index[0]-1) & (data.index <= data[data['VMAX']>=MaxIntFilter].index[0])]\n",
    "\n",
    "    # Find the time for intensification start \n",
    "    time_start = np.interp(MaxIntFilter, start_data['VMAX'], start_data['S_TIME'])\n",
    "    \n",
    "    dur = time_peak-time_start\n",
    "    \n",
    "    return dur\n",
    "        \n",
    "# Determine average intensification duration\n",
    "int_duration = dataset.groupby('CycNo').apply(duration).rename('Intensification Duration').reset_index()\n",
    "    "
   ]
  },
  {
   "cell_type": "code",
   "execution_count": null,
   "metadata": {},
   "outputs": [],
   "source": [
    "# List cyclones with invalid intensification duration\n",
    "int_duration[int_duration['Intensification Duration'] == 0]['CycNo'].values"
   ]
  },
  {
   "cell_type": "code",
   "execution_count": null,
   "metadata": {
    "collapsed": true
   },
   "outputs": [],
   "source": [
    "cyclone_metrics = cyclone_metrics.merge(int_duration, on ='CycNo', how='inner')"
   ]
  },
  {
   "cell_type": "markdown",
   "metadata": {},
   "source": [
    "### 4. Data Analysis"
   ]
  },
  {
   "cell_type": "code",
   "execution_count": null,
   "metadata": {
    "collapsed": true
   },
   "outputs": [],
   "source": [
    "# Removal of invalid cyclones\n",
    "cyclone_metrics = cyclone_metrics[~cyclone_metrics['CycNo'].isin(invalid_cyclone)]"
   ]
  },
  {
   "cell_type": "code",
   "execution_count": null,
   "metadata": {
    "collapsed": true
   },
   "outputs": [],
   "source": [
    "# Calculate annual mean of cyclone metrics\n",
    "metrics = ['VMAX','Intensification Rate','Intensification Duration']\n",
    "annual_cyclone_metrics = cyclone_metrics.groupby(['YEAR'])[metrics].mean().reset_index()\n",
    "\n",
    "# Convert data to m/s\n",
    "annual_cyclone_metrics['VMAX'] = annual_cyclone_metrics['VMAX']*0.514444\n",
    "annual_cyclone_metrics['Intensification Rate'] = annual_cyclone_metrics['Intensification Rate']*0.514444\n",
    "\n",
    "# Creat TIME column for plotting\n",
    "annual_cyclone_metrics['TIME'] = pd.to_datetime(annual_cyclone_metrics['YEAR'], format='%Y')"
   ]
  },
  {
   "cell_type": "code",
   "execution_count": null,
   "metadata": {
    "collapsed": true
   },
   "outputs": [],
   "source": [
    "# Calculate decadal mean for maximum intensity\n",
    "rolling = annual_cyclone_metrics\n",
    "rolling = rolling.set_index('TIME')\n",
    "\n",
    "rolling = rolling.rolling(min_periods=9, window=9, center=True)[metrics].mean().reset_index()\n",
    "rolling.columns = ['TIME', '9-year average VMAX', '9-year average Int Rate', '9-year average Int Duration']\n",
    "\n",
    "# Merge with original cyclone metrics dataframe\n",
    "annual_cyclone_metrics = annual_cyclone_metrics.merge(rolling, on ='TIME', how='inner')"
   ]
  },
  {
   "cell_type": "markdown",
   "metadata": {},
   "source": [
    "### Average Maximum Intensity Plot"
   ]
  },
  {
   "cell_type": "code",
   "execution_count": null,
   "metadata": {},
   "outputs": [],
   "source": [
    "ax = annual_cyclone_metrics.plot('TIME', ['VMAX','9-year average VMAX'])\n",
    "plt.ylabel('Average Peak Intensity (m/s)')\n",
    "plt.xlabel('Year')\n",
    "plt.show()"
   ]
  },
  {
   "cell_type": "markdown",
   "metadata": {},
   "source": [
    "### Average Intensification Rate Plot"
   ]
  },
  {
   "cell_type": "code",
   "execution_count": null,
   "metadata": {},
   "outputs": [],
   "source": [
    "ax = annual_cyclone_metrics.plot('TIME', ['Intensification Rate','9-year average Int Rate'])\n",
    "plt.ylabel('Average Intensification Rate (m/s/6h)')\n",
    "plt.xlabel('Year')\n",
    "plt.show()"
   ]
  },
  {
   "cell_type": "markdown",
   "metadata": {},
   "source": [
    "### Average Intensification Duration Plot"
   ]
  },
  {
   "cell_type": "code",
   "execution_count": null,
   "metadata": {},
   "outputs": [],
   "source": [
    "ax = annual_cyclone_metrics.plot('TIME', ['Intensification Duration','9-year average Int Duration'])\n",
    "plt.ylabel('Average Intensification Duration (days)')\n",
    "plt.xlabel('Year')\n",
    "plt.show()"
   ]
  },
  {
   "cell_type": "code",
   "execution_count": null,
   "metadata": {
    "scrolled": true
   },
   "outputs": [],
   "source": [
    "annual_cyclone_metrics['Prediction'] = annual_cyclone_metrics['Intensification Duration']*annual_cyclone_metrics['Intensification Rate']*4 + MaxIntFilter*0.514444\n",
    "ax = annual_cyclone_metrics.plot('TIME','Prediction')\n",
    "annual_cyclone_metrics.plot('TIME','VMAX',ax=ax)\n",
    "plt.title('r= {:.3f}, {} cyclones'.format(np.corrcoef(annual_cyclone_metrics['Prediction'], annual_cyclone_metrics['VMAX'])[0][1],cyclone_metrics['CycNo'].nunique()))\n",
    "plt.show()"
   ]
  },
  {
   "cell_type": "code",
   "execution_count": null,
   "metadata": {},
   "outputs": [],
   "source": [
    "print('Duration-Rate correlation: {:.3f}'.format(np.corrcoef(annual_cyclone_metrics['Intensification Rate'],annual_cyclone_metrics['Intensification Duration'])[0][1]))"
   ]
  },
  {
   "cell_type": "code",
   "execution_count": null,
   "metadata": {
    "collapsed": true
   },
   "outputs": [],
   "source": [
    "annual_cyclone_metrics[['YEAR','Intensification Rate', '9-year average Int Rate']].to_csv('Data/Computed-Data/computed_annual-intensification-rate_JTWC.csv',index=False)"
   ]
  },
  {
   "cell_type": "code",
   "execution_count": null,
   "metadata": {
    "collapsed": true
   },
   "outputs": [],
   "source": [
    "annual_cyclone_metrics[['YEAR','Intensification Duration', '9-year average Int Duration']].to_csv('Data/Computed-Data/computed_annual-intensification-duration_JTWC.csv',index=False)"
   ]
  },
  {
   "cell_type": "code",
   "execution_count": null,
   "metadata": {
    "collapsed": true
   },
   "outputs": [],
   "source": [
    "annual_cyclone_metrics[['YEAR','VMAX', '9-year average VMAX']].to_csv('Data/Computed-Data/computed_annual-max-intensity_JTWC.csv',index=False)"
   ]
  },
  {
   "cell_type": "code",
   "execution_count": null,
   "metadata": {
    "collapsed": true
   },
   "outputs": [],
   "source": [
    "cyclone_metrics.to_csv('Data/Computed-Data/computed_cyclone-metrics_JTWC.csv',index=False)"
   ]
  },
  {
   "cell_type": "code",
   "execution_count": null,
   "metadata": {
    "collapsed": true
   },
   "outputs": [],
   "source": []
  }
 ],
 "metadata": {
  "kernelspec": {
   "display_name": "Python 3",
   "language": "python",
   "name": "python3"
  },
  "language_info": {
   "codemirror_mode": {
    "name": "ipython",
    "version": 3
   },
   "file_extension": ".py",
   "mimetype": "text/x-python",
   "name": "python",
   "nbconvert_exporter": "python",
   "pygments_lexer": "ipython3",
   "version": "3.6.1"
  }
 },
 "nbformat": 4,
 "nbformat_minor": 2
}
