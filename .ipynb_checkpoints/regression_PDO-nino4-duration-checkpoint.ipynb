{
 "cells": [
  {
   "cell_type": "code",
   "execution_count": 1,
   "metadata": {
    "collapsed": true
   },
   "outputs": [],
   "source": [
    "from preamble import *\n",
    "from scipy.stats import pearsonr\n",
    "from sklearn.linear_model import LinearRegression"
   ]
  },
  {
   "cell_type": "code",
   "execution_count": 2,
   "metadata": {
    "collapsed": true
   },
   "outputs": [],
   "source": [
    "pdo = pd.read_csv('Data/PDO/data_PDO.csv')\n",
    "duration = pd.read_csv('Data/computed-data/computed_annual-intensification-duration_JTWC.csv')\n",
    "nino4 = pd.read_csv('Data/ENSO/Nino4/data_nino4.csv')"
   ]
  },
  {
   "cell_type": "markdown",
   "metadata": {},
   "source": [
    "## Seasonal Regression (July-September)"
   ]
  },
  {
   "cell_type": "code",
   "execution_count": 4,
   "metadata": {
    "collapsed": true
   },
   "outputs": [],
   "source": [
    "season_nino4_anom = nino4[nino4['month'].between(7,9)].groupby('year')['nino4_anom'].mean().reset_index()\n",
    "season_nino4_temp = nino4[nino4['month'].between(7,9)].groupby('year')['nino4_temp'].mean().reset_index()\n",
    "season_pdo = pdo[pdo['month'].between(7,10)].groupby('YEAR')['PDO'].mean().reset_index()"
   ]
  },
  {
   "cell_type": "code",
   "execution_count": 5,
   "metadata": {
    "collapsed": true
   },
   "outputs": [],
   "source": [
    "season_pdo.columns = ['year', 'pdo']"
   ]
  },
  {
   "cell_type": "markdown",
   "metadata": {},
   "source": [
    "### Nino4 anomaly + PDO"
   ]
  },
  {
   "cell_type": "code",
   "execution_count": 6,
   "metadata": {
    "collapsed": true
   },
   "outputs": [],
   "source": [
    "variables = season_nino4_anom.merge(season_pdo,on='year')"
   ]
  },
  {
   "cell_type": "code",
   "execution_count": 7,
   "metadata": {
    "collapsed": true
   },
   "outputs": [],
   "source": [
    "X_train = variables[['nino4_anom','pdo']].values\n",
    "y_train = duration['Intensification Duration'].values"
   ]
  },
  {
   "cell_type": "code",
   "execution_count": 8,
   "metadata": {
    "collapsed": true
   },
   "outputs": [],
   "source": [
    "lr = LinearRegression().fit(X_train, y_train)"
   ]
  },
  {
   "cell_type": "code",
   "execution_count": 9,
   "metadata": {},
   "outputs": [
    {
     "name": "stdout",
     "output_type": "stream",
     "text": [
      "Coefficients: [ 0.30832697  0.00567059]\n",
      "Intercept   : 1.55588477122\n",
      "Score       : 0.251879\n"
     ]
    }
   ],
   "source": [
    "print(\"Coefficients: %s\" % lr.coef_)\n",
    "print(\"Intercept   : %s\" % lr.intercept_)\n",
    "print(\"Score       : %f\" % lr.score(X_train, y_train))"
   ]
  },
  {
   "cell_type": "markdown",
   "metadata": {},
   "source": [
    "### Nino4 temperature + PDO"
   ]
  },
  {
   "cell_type": "code",
   "execution_count": 10,
   "metadata": {
    "collapsed": true
   },
   "outputs": [],
   "source": [
    "variables = season_nino4_temp.merge(season_pdo,on='year')"
   ]
  },
  {
   "cell_type": "code",
   "execution_count": 11,
   "metadata": {
    "collapsed": true
   },
   "outputs": [],
   "source": [
    "X_train = variables[['nino4_temp','pdo']].values\n",
    "y_train = duration['Intensification Duration'].values"
   ]
  },
  {
   "cell_type": "code",
   "execution_count": 12,
   "metadata": {
    "collapsed": true
   },
   "outputs": [],
   "source": [
    "lr = LinearRegression().fit(X_train, y_train)"
   ]
  },
  {
   "cell_type": "code",
   "execution_count": 13,
   "metadata": {},
   "outputs": [
    {
     "name": "stdout",
     "output_type": "stream",
     "text": [
      "Coefficients: [ 0.30898192  0.00544108]\n",
      "Intercept   : -7.34196383936\n",
      "Score       : 0.252095\n"
     ]
    }
   ],
   "source": [
    "print(\"Coefficients: %s\" % lr.coef_)\n",
    "print(\"Intercept   : %s\" % lr.intercept_)\n",
    "print(\"Score       : %f\" % lr.score(X_train, y_train))"
   ]
  },
  {
   "cell_type": "code",
   "execution_count": null,
   "metadata": {
    "collapsed": true
   },
   "outputs": [],
   "source": []
  }
 ],
 "metadata": {
  "kernelspec": {
   "display_name": "Python 3",
   "language": "python",
   "name": "python3"
  },
  "language_info": {
   "codemirror_mode": {
    "name": "ipython",
    "version": 3
   },
   "file_extension": ".py",
   "mimetype": "text/x-python",
   "name": "python",
   "nbconvert_exporter": "python",
   "pygments_lexer": "ipython3",
   "version": "3.6.1"
  }
 },
 "nbformat": 4,
 "nbformat_minor": 2
}
