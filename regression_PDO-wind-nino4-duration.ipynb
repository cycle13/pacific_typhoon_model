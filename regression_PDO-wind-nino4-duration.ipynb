{
 "cells": [
  {
   "cell_type": "code",
   "execution_count": null,
   "metadata": {
    "collapsed": true
   },
   "outputs": [],
   "source": [
    "from IPython.display import HTML\n",
    "\n",
    "HTML('''<script>\n",
    "code_show=true; \n",
    "function code_toggle() {\n",
    " if (code_show){\n",
    " $('div.input').hide();\n",
    " } else {\n",
    " $('div.input').show();\n",
    " }\n",
    " code_show = !code_show\n",
    "} \n",
    "$( document ).ready(code_toggle);\n",
    "</script>\n",
    "<form action=\"javascript:code_toggle()\"><input type=\"submit\" value=\"Click here to toggle on/off the raw code.\"></form>''')"
   ]
  },
  {
   "cell_type": "code",
   "execution_count": 1,
   "metadata": {
    "collapsed": true
   },
   "outputs": [],
   "source": [
    "from preamble import *\n",
    "from scipy.stats import pearsonr\n",
    "from sklearn.linear_model import LinearRegression\n",
    "import matplotlib.pyplot as plt\n",
    "from mpl_toolkits.mplot3d import Axes3D\n",
    "from sklearn.preprocessing import MinMaxScaler\n",
    "from sklearn.preprocessing import PolynomialFeatures\n",
    "from sklearn.linear_model import Lasso\n",
    "from sklearn.linear_model import Ridge"
   ]
  },
  {
   "cell_type": "code",
   "execution_count": 2,
   "metadata": {
    "collapsed": true
   },
   "outputs": [],
   "source": [
    "pdo = pd.read_csv('Data/PDO/data_PDO.csv')\n",
    "wind = pd.read_csv('Data/wind-shear/computed_seasonal-wind-shear.csv')\n",
    "duration = pd.read_csv('Data/computed-data/computed_annual-intensification-duration_JTWC.csv')\n",
    "nino4 = pd.read_csv('Data/ENSO/Nino4/data_nino4.csv')"
   ]
  },
  {
   "cell_type": "code",
   "execution_count": 3,
   "metadata": {
    "collapsed": true
   },
   "outputs": [],
   "source": [
    "# Extract 3 regions of wind shears\n",
    "wind1 = wind[wind['latitude'].between(-15,0)]\n",
    "wind1 = wind1[wind1['longitude'].between(180,215)]\n",
    "\n",
    "wind2 = wind[wind['latitude'].between(0,10)]\n",
    "wind2 = wind2[wind2['longitude'].between(130,160)]\n",
    "\n",
    "wind3 = wind[wind['latitude'].between(15,25)]\n",
    "wind3 = wind3[wind3['longitude'].between(125,140)]"
   ]
  },
  {
   "cell_type": "code",
   "execution_count": 7,
   "metadata": {
    "collapsed": true
   },
   "outputs": [],
   "source": [
    "season_nino4 = nino4[nino4['month'].between(7,9)].groupby('year')['nino4_anom'].mean().reset_index()\n",
    "season_wind1 = wind1.groupby('year')['wind'].mean().rename('wind1').reset_index()\n",
    "season_wind2 = wind2.groupby('year')['wind'].mean().rename('wind2').reset_index()\n",
    "season_wind3 = wind3.groupby('year')['wind'].mean().rename('wind3').reset_index()\n",
    "season_pdo = pdo[pdo['month'].between(7,9)].groupby('YEAR')['PDO'].mean().reset_index()\n",
    "season_pdo.columns = ['year', 'pdo']"
   ]
  },
  {
   "cell_type": "code",
   "execution_count": 12,
   "metadata": {},
   "outputs": [],
   "source": [
    "variables = season_nino4.merge(season_wind1,on='year')\n",
    "variables = variables.merge(season_wind2,on='year')\n",
    "variables = variables.merge(season_wind3,on='year')\n",
    "variables = variables.merge(season_pdo,on='year')"
   ]
  },
  {
   "cell_type": "code",
   "execution_count": 29,
   "metadata": {},
   "outputs": [
    {
     "data": {
      "text/html": [
       "<div>\n",
       "<style>\n",
       "    .dataframe thead tr:only-child th {\n",
       "        text-align: right;\n",
       "    }\n",
       "\n",
       "    .dataframe thead th {\n",
       "        text-align: left;\n",
       "    }\n",
       "\n",
       "    .dataframe tbody tr th {\n",
       "        vertical-align: top;\n",
       "    }\n",
       "</style>\n",
       "<table border=\"1\" class=\"dataframe\">\n",
       "  <thead>\n",
       "    <tr style=\"text-align: right;\">\n",
       "      <th></th>\n",
       "      <th>year</th>\n",
       "      <th>nino4_anom</th>\n",
       "      <th>wind1</th>\n",
       "      <th>wind2</th>\n",
       "      <th>wind3</th>\n",
       "      <th>pdo</th>\n",
       "    </tr>\n",
       "  </thead>\n",
       "  <tbody>\n",
       "    <tr>\n",
       "      <th>0</th>\n",
       "      <td>1951</td>\n",
       "      <td>-0.316667</td>\n",
       "      <td>12.878017</td>\n",
       "      <td>14.471279</td>\n",
       "      <td>5.803357</td>\n",
       "      <td>-0.250000</td>\n",
       "    </tr>\n",
       "    <tr>\n",
       "      <th>1</th>\n",
       "      <td>1952</td>\n",
       "      <td>-0.613333</td>\n",
       "      <td>9.445609</td>\n",
       "      <td>15.210350</td>\n",
       "      <td>8.500693</td>\n",
       "      <td>-0.913333</td>\n",
       "    </tr>\n",
       "    <tr>\n",
       "      <th>2</th>\n",
       "      <td>1953</td>\n",
       "      <td>0.033333</td>\n",
       "      <td>11.539983</td>\n",
       "      <td>15.313083</td>\n",
       "      <td>9.473967</td>\n",
       "      <td>0.053333</td>\n",
       "    </tr>\n",
       "    <tr>\n",
       "      <th>3</th>\n",
       "      <td>1954</td>\n",
       "      <td>-1.033333</td>\n",
       "      <td>15.361635</td>\n",
       "      <td>13.197492</td>\n",
       "      <td>9.403017</td>\n",
       "      <td>-0.143333</td>\n",
       "    </tr>\n",
       "    <tr>\n",
       "      <th>4</th>\n",
       "      <td>1955</td>\n",
       "      <td>-0.870000</td>\n",
       "      <td>17.743377</td>\n",
       "      <td>9.147422</td>\n",
       "      <td>7.833979</td>\n",
       "      <td>-2.183333</td>\n",
       "    </tr>\n",
       "  </tbody>\n",
       "</table>\n",
       "</div>"
      ],
      "text/plain": [
       "   year  nino4_anom      wind1      wind2     wind3       pdo\n",
       "0  1951   -0.316667  12.878017  14.471279  5.803357 -0.250000\n",
       "1  1952   -0.613333   9.445609  15.210350  8.500693 -0.913333\n",
       "2  1953    0.033333  11.539983  15.313083  9.473967  0.053333\n",
       "3  1954   -1.033333  15.361635  13.197492  9.403017 -0.143333\n",
       "4  1955   -0.870000  17.743377   9.147422  7.833979 -2.183333"
      ]
     },
     "execution_count": 29,
     "metadata": {},
     "output_type": "execute_result"
    }
   ],
   "source": [
    "variables.head()"
   ]
  },
  {
   "cell_type": "markdown",
   "metadata": {},
   "source": [
    "### PDO + Nino4 + Wind Shear - Duration Linear Regression"
   ]
  },
  {
   "cell_type": "code",
   "execution_count": 33,
   "metadata": {},
   "outputs": [
    {
     "name": "stdout",
     "output_type": "stream",
     "text": [
      "Coefficients: [ 0.22686028 -0.01252035  0.01003655 -0.05745775 -0.03463197]\n",
      "Intercept   : 2.0061137994\n",
      "R2 Score    : 0.409646\n",
      "Correlation : 0.640036\n"
     ]
    }
   ],
   "source": [
    "X_train = variables.ix[:,variables.columns!='year'].values\n",
    "y_train = duration['Intensification Duration'].values\n",
    "\n",
    "lr = LinearRegression().fit(X_train, y_train)\n",
    "\n",
    "print(\"Coefficients: %s\" % lr.coef_)\n",
    "print(\"Intercept   : %s\" % lr.intercept_)\n",
    "print(\"R2 Score    : %f\" % lr.score(X_train, y_train))\n",
    "print(\"Correlation : %f\" % np.sqrt(lr.score(X_train, y_train)))"
   ]
  },
  {
   "cell_type": "markdown",
   "metadata": {
    "collapsed": true
   },
   "source": [
    "### Interactions and Polynomial"
   ]
  },
  {
   "cell_type": "code",
   "execution_count": 60,
   "metadata": {
    "scrolled": true
   },
   "outputs": [
    {
     "name": "stdout",
     "output_type": "stream",
     "text": [
      "(60, 21)\n",
      "Regression correlation result: 0.770\n",
      "Regression correlation result: 0.755\n",
      "Lasso coefficients: [ 0.          3.87068118  2.14571809  0.91125046  2.512378    3.34196051\n",
      " -1.45476538 -1.59674562  0.18660254 -1.0777622  -0.84073993 -0.46269187\n",
      " -0.78240285 -0.06907865 -1.38502204 -1.25648266  0.98314238  0.20115162\n",
      " -1.19086216 -2.93731327 -1.36336811]\n",
      "Ridge coefficients: [ 0.          5.44613616  3.89963848  1.14576433  3.97551549  4.93127413\n",
      " -1.98988752 -2.24477483  0.46856293 -1.92487093 -1.6796353  -0.88759003\n",
      " -1.07496463 -0.93191741 -2.32048945 -1.49341259  1.10026001  0.06407592\n",
      " -1.50542194 -3.634435   -1.67467452]\n"
     ]
    }
   ],
   "source": [
    "scaler = MinMaxScaler()\n",
    "X_train_scaled = scaler.fit_transform(X_train)\n",
    "\n",
    "poly = PolynomialFeatures(degree=2).fit(X_train_scaled)\n",
    "X_train_poly = poly.transform(X_train_scaled)\n",
    "\n",
    "print(X_train_poly.shape)\n",
    "\n",
    "ridge = Ridge(alpha=0.001).fit(X_train_poly,y_train)\n",
    "print('Regression correlation result: {:.3f}'.format(np.sqrt(ridge.score(X_train_poly,y_train))))\n",
    "\n",
    "lasso = Lasso(alpha=0.0001,max_iter=1e5).fit(X_train_poly,y_train)\n",
    "print('Regression correlation result: {:.3f}'.format(np.sqrt(lasso.score(X_train_poly,y_train))))\n",
    "print('Lasso coefficients: {}'.format(lasso.coef_))\n",
    "print('Ridge coefficients: {}'.format(ridge.coef_))"
   ]
  },
  {
   "cell_type": "markdown",
   "metadata": {},
   "source": [
    "### Decision Tree Regression"
   ]
  },
  {
   "cell_type": "code",
   "execution_count": 68,
   "metadata": {},
   "outputs": [
    {
     "data": {
      "text/plain": [
       "0.83862650972208508"
      ]
     },
     "execution_count": 68,
     "metadata": {},
     "output_type": "execute_result"
    }
   ],
   "source": [
    "from sklearn.tree import DecisionTreeRegressor\n",
    "\n",
    "tree = DecisionTreeRegressor(max_depth=5)\n",
    "tree.fit(X_train, y_train)\n",
    "tree.score(X_train, y_train)"
   ]
  },
  {
   "cell_type": "code",
   "execution_count": null,
   "metadata": {
    "collapsed": true
   },
   "outputs": [],
   "source": []
  }
 ],
 "metadata": {
  "kernelspec": {
   "display_name": "Python 3",
   "language": "python",
   "name": "python3"
  },
  "language_info": {
   "codemirror_mode": {
    "name": "ipython",
    "version": 3
   },
   "file_extension": ".py",
   "mimetype": "text/x-python",
   "name": "python",
   "nbconvert_exporter": "python",
   "pygments_lexer": "ipython3",
   "version": "3.6.1"
  }
 },
 "nbformat": 4,
 "nbformat_minor": 2
}
