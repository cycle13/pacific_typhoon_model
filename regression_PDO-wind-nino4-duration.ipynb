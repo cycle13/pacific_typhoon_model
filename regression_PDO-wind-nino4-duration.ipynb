{
 "cells": [
  {
   "cell_type": "code",
   "execution_count": 1,
   "metadata": {},
   "outputs": [
    {
     "data": {
      "text/html": [
       "<script>\n",
       "code_show=true; \n",
       "function code_toggle() {\n",
       " if (code_show){\n",
       " $('div.input').hide();\n",
       " } else {\n",
       " $('div.input').show();\n",
       " }\n",
       " code_show = !code_show\n",
       "} \n",
       "$( document ).ready(code_toggle);\n",
       "</script>\n",
       "<form action=\"javascript:code_toggle()\"><input type=\"submit\" value=\"Click here to toggle on/off the raw code.\"></form>"
      ],
      "text/plain": [
       "<IPython.core.display.HTML object>"
      ]
     },
     "execution_count": 1,
     "metadata": {},
     "output_type": "execute_result"
    }
   ],
   "source": [
    "from IPython.display import HTML\n",
    "\n",
    "HTML('''<script>\n",
    "code_show=true; \n",
    "function code_toggle() {\n",
    " if (code_show){\n",
    " $('div.input').hide();\n",
    " } else {\n",
    " $('div.input').show();\n",
    " }\n",
    " code_show = !code_show\n",
    "} \n",
    "$( document ).ready(code_toggle);\n",
    "</script>\n",
    "<form action=\"javascript:code_toggle()\"><input type=\"submit\" value=\"Click here to toggle on/off the raw code.\"></form>''')"
   ]
  },
  {
   "cell_type": "code",
   "execution_count": 3,
   "metadata": {
    "collapsed": true
   },
   "outputs": [],
   "source": [
    "from preamble import *\n",
    "from scipy.stats import pearsonr\n",
    "from sklearn.linear_model import LinearRegression\n",
    "import matplotlib.pyplot as plt\n",
    "from mpl_toolkits.mplot3d import Axes3D\n",
    "from sklearn.preprocessing import MinMaxScaler\n",
    "from sklearn.preprocessing import PolynomialFeatures\n",
    "from sklearn.linear_model import Lasso\n",
    "from sklearn.linear_model import Ridge\n",
    "from sklearn.tree import DecisionTreeRegressor\n",
    "\n",
    "depths = [2,3,4,5,6,7]"
   ]
  },
  {
   "cell_type": "code",
   "execution_count": 4,
   "metadata": {},
   "outputs": [],
   "source": [
    "pdo = pd.read_csv('Data/PDO/data_PDO.csv')\n",
    "wind = pd.read_csv('Data/wind-shear/computed_seasonal-wind-shear.csv')\n",
    "duration = pd.read_csv('Data/computed-data/computed_annual-intensification-duration_JTWC.csv')\n",
    "nino4 = pd.read_csv('Data/ENSO/Nino4/data_nino4.csv')\n",
    "wpsh = pd.read_csv('Data/tropical-high/data_subtropical-high.csv')"
   ]
  },
  {
   "cell_type": "code",
   "execution_count": 5,
   "metadata": {},
   "outputs": [],
   "source": [
    "# Extract 3 regions of wind shears\n",
    "wind1 = wind[wind['latitude'].between(-15,0)]\n",
    "wind1 = wind1[wind1['longitude'].between(180,215)]\n",
    "\n",
    "wind2 = wind[wind['latitude'].between(0,10)]\n",
    "wind2 = wind2[wind2['longitude'].between(130,160)]\n",
    "\n",
    "wind3 = wind[wind['latitude'].between(15,25)]\n",
    "wind3 = wind3[wind3['longitude'].between(125,140)]"
   ]
  },
  {
   "cell_type": "code",
   "execution_count": 6,
   "metadata": {
    "collapsed": true
   },
   "outputs": [],
   "source": [
    "season_nino4 = nino4[nino4['month'].between(7,9)].groupby('year')['nino4_anom'].mean().reset_index()\n",
    "season_wind1 = wind1.groupby('year')['wind'].mean().rename('wind1').reset_index()\n",
    "season_wind2 = wind2.groupby('year')['wind'].mean().rename('wind2').reset_index()\n",
    "season_wind3 = wind3.groupby('year')['wind'].mean().rename('wind3').reset_index()\n",
    "season_pdo = pdo[pdo['month'].between(7,9)].groupby('YEAR')['PDO'].mean().reset_index()\n",
    "season_pdo.columns = ['year', 'pdo']"
   ]
  },
  {
   "cell_type": "code",
   "execution_count": 7,
   "metadata": {
    "collapsed": true
   },
   "outputs": [],
   "source": [
    "variables = season_nino4.merge(season_wind1,on='year')\n",
    "variables = variables.merge(season_wind2,on='year')\n",
    "variables = variables.merge(season_wind3,on='year')\n",
    "variables = variables.merge(season_pdo,on='year')"
   ]
  },
  {
   "cell_type": "markdown",
   "metadata": {},
   "source": [
    "### PDO + Nino4 + Wind Shear - Duration Linear Regression"
   ]
  },
  {
   "cell_type": "code",
   "execution_count": 8,
   "metadata": {},
   "outputs": [
    {
     "name": "stdout",
     "output_type": "stream",
     "text": [
      "Coefficients: [ 0.22686028 -0.01252035  0.01003655 -0.05745775 -0.03463197]\n",
      "Intercept   : 2.0061137994\n",
      "Correlation : 0.640036\n"
     ]
    }
   ],
   "source": [
    "X_train = variables.loc[:,variables.columns!='year'].values\n",
    "y_train = duration['Intensification Duration'].values\n",
    "\n",
    "lr = LinearRegression().fit(X_train, y_train)\n",
    "\n",
    "print(\"Coefficients: %s\" % lr.coef_)\n",
    "print(\"Intercept   : %s\" % lr.intercept_)\n",
    "print(\"Correlation : %f\" % np.sqrt(lr.score(X_train, y_train)))"
   ]
  },
  {
   "cell_type": "code",
   "execution_count": 11,
   "metadata": {},
   "outputs": [
    {
     "name": "stdout",
     "output_type": "stream",
     "text": [
      "Ridge coefficients: [ 0.          5.44613616  3.89963848  1.14576433  3.97551549  4.93127413\n",
      " -1.98988752 -2.24477483  0.46856293 -1.92487093 -1.6796353  -0.88759003\n",
      " -1.07496463 -0.93191741 -2.32048945 -1.49341259  1.10026001  0.06407592\n",
      " -1.50542194 -3.634435   -1.67467452]\n",
      "Ridge Intercept   : -3.25195548014\n",
      "Ridge correlation: 0.770  \n",
      "\n",
      "Lasso coefficients: [ 0.          3.87068118  2.14571809  0.91125046  2.512378    3.34196051\n",
      " -1.45476538 -1.59674562  0.18660254 -1.0777622  -0.84073993 -0.46269187\n",
      " -0.78240285 -0.06907865 -1.38502204 -1.25648266  0.98314238  0.20115162\n",
      " -1.19086216 -2.93731327 -1.36336811]\n",
      "Lasso Intercept   : -1.63964049227\n",
      "Lasso correlation: 0.755\n"
     ]
    }
   ],
   "source": [
    "scaler = MinMaxScaler()\n",
    "X_train_scaled = scaler.fit_transform(X_train)\n",
    "\n",
    "poly = PolynomialFeatures(degree=2).fit(X_train_scaled)\n",
    "X_train_poly = poly.transform(X_train_scaled)\n",
    "\n",
    "ridge = Ridge(alpha=0.001).fit(X_train_poly,y_train)\n",
    "print('Ridge coefficients: {}'.format(ridge.coef_))\n",
    "print(\"Ridge Intercept   : %s\" % ridge.intercept_)\n",
    "print('Ridge correlation: {:.3f}  \\n'.format(np.sqrt(ridge.score(X_train_poly,y_train))))\n",
    "\n",
    "\n",
    "\n",
    "\n",
    "lasso = Lasso(alpha=0.0001,max_iter=1e5).fit(X_train_poly,y_train)\n",
    "print('Lasso coefficients: {}'.format(lasso.coef_))\n",
    "print(\"Lasso Intercept   : %s\" % lasso.intercept_)\n",
    "print('Lasso correlation: {:.3f}'.format(np.sqrt(lasso.score(X_train_poly,y_train))))"
   ]
  },
  {
   "cell_type": "code",
   "execution_count": 12,
   "metadata": {},
   "outputs": [
    {
     "name": "stdout",
     "output_type": "stream",
     "text": [
      "Tree depth 2 correlation: 0.47143139393323\n",
      "Tree depth 3 correlation: 0.6409782841100349\n",
      "Tree depth 4 correlation: 0.7470375307028133\n",
      "Tree depth 5 correlation: 0.8386265097220851\n",
      "Tree depth 6 correlation: 0.905667538586068\n",
      "Tree depth 7 correlation: 0.9470038869971669\n"
     ]
    }
   ],
   "source": [
    "for depth in depths:\n",
    "    tree = DecisionTreeRegressor(max_depth=depth)\n",
    "    tree.fit(X_train, y_train)\n",
    "    print('Tree depth {} correlation: {}'.format(depth, tree.score(X_train, y_train)))"
   ]
  },
  {
   "cell_type": "markdown",
   "metadata": {},
   "source": [
    "### WPSH + PDO + Nino4 + Wind Shear - Duration Linear Regression"
   ]
  },
  {
   "cell_type": "code",
   "execution_count": 13,
   "metadata": {
    "collapsed": true
   },
   "outputs": [],
   "source": [
    "wpsh = wpsh[~wpsh['yr'].isnull()]\n",
    "wpsh = wpsh[['yr','ix']]\n",
    "wpsh.columns = ['year','wpsh']"
   ]
  },
  {
   "cell_type": "code",
   "execution_count": 14,
   "metadata": {
    "collapsed": true
   },
   "outputs": [],
   "source": [
    "variables_m = variables.merge(wpsh,on='year')"
   ]
  },
  {
   "cell_type": "code",
   "execution_count": 20,
   "metadata": {},
   "outputs": [
    {
     "name": "stdout",
     "output_type": "stream",
     "text": [
      "Coefficients: [-0.10791636]\n",
      "Intercept   : 1.55254703143\n",
      "R2 Score    : 0.134223\n",
      "Correlation : 0.366364\n"
     ]
    }
   ],
   "source": [
    "X_train_m = variables_m[['wpsh']].values\n",
    "y_train_m = duration[duration['YEAR']>=1979]['Intensification Duration'].values\n",
    "\n",
    "lr = LinearRegression().fit(X_train_m, y_train_m)\n",
    "\n",
    "print(\"Coefficients: %s\" % lr.coef_)\n",
    "print(\"Intercept   : %s\" % lr.intercept_)\n",
    "print(\"R2 Score    : %f\" % lr.score(X_train_m, y_train_m))\n",
    "print(\"Correlation : %f\" % np.sqrt(lr.score(X_train_m, y_train_m)))"
   ]
  },
  {
   "cell_type": "code",
   "execution_count": 16,
   "metadata": {},
   "outputs": [
    {
     "name": "stdout",
     "output_type": "stream",
     "text": [
      "Coefficients: [ 0.16949049 -0.04911683 -0.00713789 -0.0744341  -0.05238422 -0.02349279]\n",
      "Intercept   : 2.80549052912\n",
      "R2 Score    : 0.563653\n",
      "Correlation : 0.750769\n"
     ]
    }
   ],
   "source": [
    "X_train_m = variables_m.loc[:,variables_m.columns!='year'].values\n",
    "y_train_m = duration[duration['YEAR']>=1979]['Intensification Duration'].values\n",
    "\n",
    "lr = LinearRegression().fit(X_train_m, y_train_m)\n",
    "\n",
    "print(\"Coefficients: %s\" % lr.coef_)\n",
    "print(\"Intercept   : %s\" % lr.intercept_)\n",
    "print(\"R2 Score    : %f\" % lr.score(X_train_m, y_train_m))\n",
    "print(\"Correlation : %f\" % np.sqrt(lr.score(X_train_m, y_train_m)))"
   ]
  },
  {
   "cell_type": "code",
   "execution_count": 17,
   "metadata": {},
   "outputs": [
    {
     "name": "stdout",
     "output_type": "stream",
     "text": [
      "Ridge coefficients: [ 0.          0.05413038  2.53047181  1.26459198  6.68581449  0.31136036\n",
      " -2.76255494  0.74964224  0.5238027   2.14321191 -2.79874241 -1.21217389\n",
      "  0.49062635 -0.52398543 -4.58298867 -5.04617092 -0.28092859  0.47572443\n",
      " -3.78517619 -0.26146235  4.89843145 -0.57647825 -2.07988802 -1.56837907\n",
      " -1.87096997 -2.8459963   3.15148691  1.83452634]\n",
      "Ridge Intercept   : 0.333954366212\n",
      "Ridge correlation: 0.966  \n",
      "\n",
      "Lasso coefficients: [ 0.          0.         -0.05262032  0.          0.          0.\n",
      " -0.08222789  0.41949209 -0.38777002  0.          0.          0.          0.\n",
      " -0.06826993 -0.41518555 -0.55847017 -0.         -0.         -0.31368998\n",
      "  0.          0.5639923   0.         -0.21002256 -0.         -0.         -0.4180621\n",
      " -0.          0.        ]\n",
      "Lasso Intercept   : 1.78584381275\n",
      "Lasso correlation: 0.809\n"
     ]
    }
   ],
   "source": [
    "scaler = MinMaxScaler()\n",
    "X_train_m_scaled = scaler.fit_transform(X_train_m)\n",
    "\n",
    "poly = PolynomialFeatures(degree=2).fit(X_train_m_scaled)\n",
    "X_train_m_poly = poly.transform(X_train_m_scaled)\n",
    "\n",
    "ridge = Ridge(alpha=0.001).fit(X_train_m_poly,y_train_m)\n",
    "print('Ridge coefficients: {}'.format(ridge.coef_))\n",
    "print(\"Ridge Intercept   : %s\" % ridge.intercept_)\n",
    "print('Ridge correlation: {:.3f}  \\n'.format(np.sqrt(ridge.score(X_train_m_poly,y_train_m))))\n",
    "\n",
    "lasso = Lasso(alpha=0.001,max_iter=1e5).fit(X_train_m_poly,y_train_m)\n",
    "print('Lasso coefficients: {}'.format(lasso.coef_))\n",
    "print(\"Lasso Intercept   : %s\" % lasso.intercept_)\n",
    "print('Lasso correlation: {:.3f}'.format(np.sqrt(lasso.score(X_train_m_poly,y_train_m))))"
   ]
  },
  {
   "cell_type": "code",
   "execution_count": 18,
   "metadata": {},
   "outputs": [
    {
     "name": "stdout",
     "output_type": "stream",
     "text": [
      "Tree depth 2 correlation: 0.6714995695851276\n",
      "Tree depth 3 correlation: 0.8774104232010537\n",
      "Tree depth 4 correlation: 0.9665527252907438\n",
      "Tree depth 5 correlation: 0.9925599849442722\n",
      "Tree depth 6 correlation: 0.9988269349261193\n",
      "Tree depth 7 correlation: 0.9999495106417977\n"
     ]
    }
   ],
   "source": [
    "for depth in depths:\n",
    "    tree = DecisionTreeRegressor(max_depth=depth)\n",
    "    tree.fit(X_train_m, y_train_m)\n",
    "    print('Tree depth {} correlation: {}'.format(depth, tree.score(X_train_m, y_train_m)))"
   ]
  }
 ],
 "metadata": {
  "kernelspec": {
   "display_name": "Python 3",
   "language": "python",
   "name": "python3"
  },
  "language_info": {
   "codemirror_mode": {
    "name": "ipython",
    "version": 3
   },
   "file_extension": ".py",
   "mimetype": "text/x-python",
   "name": "python",
   "nbconvert_exporter": "python",
   "pygments_lexer": "ipython3",
   "version": "3.6.1"
  }
 },
 "nbformat": 4,
 "nbformat_minor": 2
}
