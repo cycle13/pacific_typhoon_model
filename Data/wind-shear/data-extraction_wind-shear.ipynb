{
 "cells": [
  {
   "cell_type": "code",
   "execution_count": 1,
   "metadata": {
    "collapsed": true
   },
   "outputs": [],
   "source": [
    "import pandas as pd\n",
    "import matplotlib.pyplot as plt\n",
    "import numpy as np\n",
    "import xarray as xr"
   ]
  },
  {
   "cell_type": "code",
   "execution_count": 2,
   "metadata": {
    "collapsed": true
   },
   "outputs": [],
   "source": [
    "# Unpack the dataset\n",
    "vw = xr.open_dataset('vwnd.mon.mean.nc')\n",
    "uw = xr.open_dataset('uwnd.mon.mean.nc')"
   ]
  },
  {
   "cell_type": "code",
   "execution_count": 3,
   "metadata": {
    "collapsed": true
   },
   "outputs": [],
   "source": [
    "# Time filter\n",
    "vw = vw.sel(time=slice('1951-01','2010-12'))\n",
    "uw = uw.sel(time=slice('1951-01','2010-12'))"
   ]
  },
  {
   "cell_type": "code",
   "execution_count": 4,
   "metadata": {
    "collapsed": true
   },
   "outputs": [],
   "source": [
    "vw = vw.rename({'vwnd':'wind'})\n",
    "uw = uw.rename({'uwnd':'wind'})"
   ]
  },
  {
   "cell_type": "code",
   "execution_count": 5,
   "metadata": {
    "collapsed": true
   },
   "outputs": [],
   "source": [
    "shear = xr.ufuncs.sqrt(xr.ufuncs.square(vw.sel(level=850.0) - vw.sel(level=200.0))+xr.ufuncs.square(uw.sel(level=850.0) - uw.sel(level=200.0)))"
   ]
  },
  {
   "cell_type": "code",
   "execution_count": 6,
   "metadata": {
    "collapsed": true,
    "scrolled": false
   },
   "outputs": [],
   "source": [
    "shear = shear.sel(lon = np.linspace(100,280,73))\n",
    "shear = shear.sel(lat = np.linspace(-30,60,37))\n",
    "\n",
    "shear_data = shear.to_dataframe().reset_index()\n",
    "\n",
    "shear_data.to_csv('data_wind-shear.csv',index=False)"
   ]
  },
  {
   "cell_type": "code",
   "execution_count": null,
   "metadata": {
    "collapsed": true
   },
   "outputs": [],
   "source": []
  }
 ],
 "metadata": {
  "kernelspec": {
   "display_name": "Python 2",
   "language": "python",
   "name": "python2"
  },
  "language_info": {
   "codemirror_mode": {
    "name": "ipython",
    "version": 3
   },
   "file_extension": ".py",
   "mimetype": "text/x-python",
   "name": "python",
   "nbconvert_exporter": "python",
   "pygments_lexer": "ipython3",
   "version": "3.6.1"
  }
 },
 "nbformat": 4,
 "nbformat_minor": 2
}
