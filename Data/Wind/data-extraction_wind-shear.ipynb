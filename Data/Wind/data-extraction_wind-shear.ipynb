{
 "cells": [
  {
   "cell_type": "code",
   "execution_count": 1,
   "metadata": {
    "collapsed": true
   },
   "outputs": [],
   "source": [
    "import pandas as pd\n",
    "import matplotlib.pyplot as plt\n",
    "import numpy as np\n",
    "import xarray as xr"
   ]
  },
  {
   "cell_type": "code",
   "execution_count": 2,
   "metadata": {},
   "outputs": [],
   "source": [
    "# Unpack the dataset\n",
    "vw = xr.open_dataset('vwnd.mon.mean.nc')\n",
    "uw = xr.open_dataset('uwnd.mon.mean.nc')"
   ]
  },
  {
   "cell_type": "code",
   "execution_count": 5,
   "metadata": {},
   "outputs": [],
   "source": [
    "# Time filter\n",
    "vw = vw.sel(time=slice('1951-01','2010-12'))\n",
    "uw = uw.sel(time=slice('1951-01','2010-12'))"
   ]
  },
  {
   "cell_type": "code",
   "execution_count": 55,
   "metadata": {},
   "outputs": [],
   "source": [
    "vw = vw.rename({'vwnd':'wind'})\n",
    "uw = uw.rename({'uwnd':'wind'})"
   ]
  },
  {
   "cell_type": "code",
   "execution_count": 89,
   "metadata": {},
   "outputs": [],
   "source": [
    "shear = xr.ufuncs.sqrt(xr.ufuncs.square(vw.sel(level=850.0) - vw.sel(level=200.0))+xr.ufuncs.square(uw.sel(level=850.0) - uw.sel(level=200.0)))"
   ]
  },
  {
   "cell_type": "code",
   "execution_count": 90,
   "metadata": {
    "scrolled": false
   },
   "outputs": [],
   "source": [
    "shear = shear.where(shear.lat >= 10., drop=True)\n",
    "shear = shear.where(shear.lat <= 25., drop=True)\n",
    "shear = shear.where(shear.lon >= 120., drop=True)\n",
    "shear = shear.where(shear.lon <= 150., drop=True)"
   ]
  },
  {
   "cell_type": "code",
   "execution_count": 96,
   "metadata": {},
   "outputs": [],
   "source": [
    "shear_data = shear.groupby('time').mean().to_dataframe().reset_index()"
   ]
  },
  {
   "cell_type": "code",
   "execution_count": 98,
   "metadata": {},
   "outputs": [],
   "source": [
    "shear_data.to_csv('wind_shear.csv',index=False)"
   ]
  }
 ],
 "metadata": {
  "kernelspec": {
   "display_name": "Python 2",
   "language": "python",
   "name": "python2"
  },
  "language_info": {
   "codemirror_mode": {
    "name": "ipython",
    "version": 3
   },
   "file_extension": ".py",
   "mimetype": "text/x-python",
   "name": "python",
   "nbconvert_exporter": "python",
   "pygments_lexer": "ipython3",
   "version": "3.6.1"
  }
 },
 "nbformat": 4,
 "nbformat_minor": 2
}
