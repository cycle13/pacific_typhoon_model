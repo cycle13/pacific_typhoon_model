{
 "cells": [
  {
   "cell_type": "code",
   "execution_count": 1,
   "metadata": {
    "collapsed": true
   },
   "outputs": [],
   "source": [
    "import xarray as xr"
   ]
  },
  {
   "cell_type": "code",
   "execution_count": 25,
   "metadata": {},
   "outputs": [],
   "source": [
    "# Unpack the dataset\n",
    "ds = xr.open_dataset('tanom_3month/tanom_555507-09.nc',decode_times=False)"
   ]
  },
  {
   "cell_type": "code",
   "execution_count": 26,
   "metadata": {
    "scrolled": false
   },
   "outputs": [
    {
     "data": {
      "text/plain": [
       "<bound method Mapping.keys of <xarray.Dataset>\n",
       "Dimensions:             (depth: 16, lat: 180, lon: 360, nbounds: 2, time: 1)\n",
       "Coordinates:\n",
       "  * lat                 (lat) float32 -89.5 -88.5 -87.5 -86.5 -85.5 -84.5 ...\n",
       "  * lon                 (lon) float32 -179.5 -178.5 -177.5 -176.5 -175.5 ...\n",
       "  * depth               (depth) float32 0.0 10.0 20.0 30.0 50.0 75.0 100.0 ...\n",
       "  * time                (time) float32 7.5\n",
       "Dimensions without coordinates: nbounds\n",
       "Data variables:\n",
       "    crs                 int32 -2147483647\n",
       "    lat_bnds            (lat, nbounds) float32 -90.0 -89.0 -89.0 -88.0 -88.0 ...\n",
       "    lon_bnds            (lon, nbounds) float32 -180.0 -179.0 -179.0 -178.0 ...\n",
       "    depth_bnds          (depth, nbounds) float32 0.0 5.0 5.0 15.0 15.0 25.0 ...\n",
       "    climatology_bounds  (time, nbounds) float32 6.0 9.0\n",
       "    t_an                (time, depth, lat, lon) float64 nan nan nan nan nan ...\n",
       "    t_mn                (time, depth, lat, lon) float64 nan nan nan nan nan ...\n",
       "    t_dd                (time, depth, lat, lon) float64 0.0 0.0 0.0 0.0 0.0 ...\n",
       "    t_gp                (time, depth, lat, lon) float64 nan nan nan nan nan ...\n",
       "    t_SE                (time, depth, lat, lon) float64 nan nan nan nan nan ...\n",
       "Attributes:\n",
       "    standard_name_vocabulary:        CF-1.6\n",
       "    featureType:                     Grid\n",
       "    cdm_data_type:                   Grid\n",
       "    Conventions:                     CF-1.6\n",
       "    title:                           Temperature anomalies from WOA09 : tempe...\n",
       "    summary:                         Mean ocean variable anomaly from in situ...\n",
       "    references:                      Levitus, S., J. I. Antonov, T. P. Boyer,...\n",
       "    institution:                     National Oceanographic Data Center(NODC)\n",
       "    comment:                         \n",
       "    id:                              SPECIAL\n",
       "    naming_authority:                gov.noaa.nodc\n",
       "    time_coverage_start:             1955-07-01\n",
       "    time_coverage_duration:          P03M\n",
       "    time_coverage_resolution:        P03M\n",
       "    geospatial_lat_min:              -90.0\n",
       "    geospatial_lat_max:              90.0\n",
       "    geospatial_lon_min:              -180.0\n",
       "    geospatial_lon_max:              180.0\n",
       "    geospatial_vertical_min:         0.0\n",
       "    geospatial_vertical_max:         700.0\n",
       "    geospatial_lat_units:            degrees_north\n",
       "    geospatial_lat_resolution:       1.00 degrees\n",
       "    geospatial_lon_units:            degrees_east\n",
       "    geospatial_lon_resolution:       1.00 degrees\n",
       "    geospatial_vertical_units:       m\n",
       "    geospatial_vertical_resolution:  \n",
       "    geospatial_vertical_positive:    down\n",
       "    creator_name:                    Ocean Climate Laboratory\n",
       "    creator_email:                   NODC.Services@noaa.gov\n",
       "    creator_url:                     http://www.nodc.noaa.gov\n",
       "    project:                         World Ocean Database\n",
       "    processing_level:                processed\n",
       "    keywords:                        <ISO_TOPIC_Category> Oceans</ISO_TOPIC_C...\n",
       "    keywords_vocabulary:             ISO 19115\n",
       "    contributor_name:                Ocean Climate Laboratory\n",
       "    contributor_role:                Calculation of anomalies\n",
       "    nodc_template_version:           NODC_NetCDF_Grid_Template_v1.0\n",
       "    date_created:                    2013-09-17 \n",
       "    date_modified:                   2013-09-17 \n",
       "    publisher_name:                  US NATIONAL OCEANOGRAPHIC DATA CENTER\n",
       "    publisher_url:                   http://www.nodc.noaa.gov/\n",
       "    publisher_email:                 NODC.Services@noaa.gov\n",
       "    license:                         These data are openly available to the p...\n",
       "    Metadata_Conventions:            Unidata Dataset Discovery v1.0\n",
       "    metadata_link:                   http://www.nodc.noaa.gov/OC5/3M_HEAT_CON...>"
      ]
     },
     "execution_count": 26,
     "metadata": {},
     "output_type": "execute_result"
    }
   ],
   "source": [
    "ds.keys"
   ]
  },
  {
   "cell_type": "code",
   "execution_count": 27,
   "metadata": {},
   "outputs": [
    {
     "data": {
      "text/plain": [
       "'1955-07-01'"
      ]
     },
     "execution_count": 27,
     "metadata": {},
     "output_type": "execute_result"
    }
   ],
   "source": [
    "ds.time_coverage_start"
   ]
  },
  {
   "cell_type": "code",
   "execution_count": null,
   "metadata": {
    "collapsed": true
   },
   "outputs": [],
   "source": [
    "data_date = []\n",
    "data_anom_mean = []\n",
    "data_mean = []\n",
    "data_SD = []\n",
    "\n",
    "data_date.append(ds.time_coverage_start)"
   ]
  }
 ],
 "metadata": {
  "kernelspec": {
   "display_name": "Python 3",
   "language": "python",
   "name": "python3"
  },
  "language_info": {
   "codemirror_mode": {
    "name": "ipython",
    "version": 3
   },
   "file_extension": ".py",
   "mimetype": "text/x-python",
   "name": "python",
   "nbconvert_exporter": "python",
   "pygments_lexer": "ipython3",
   "version": "3.6.1"
  }
 },
 "nbformat": 4,
 "nbformat_minor": 2
}
