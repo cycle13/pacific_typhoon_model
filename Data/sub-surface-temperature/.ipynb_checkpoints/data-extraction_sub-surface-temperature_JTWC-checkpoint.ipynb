{
 "cells": [
  {
   "cell_type": "code",
   "execution_count": 1,
   "metadata": {
    "collapsed": true
   },
   "outputs": [],
   "source": [
    "import xarray as xr\n",
    "import glob\n",
    "import pandas as pd\n",
    "import numpy as np\n",
    "import sys"
   ]
  },
  {
   "cell_type": "code",
   "execution_count": 2,
   "metadata": {
    "collapsed": true
   },
   "outputs": [],
   "source": [
    "def progress(count, total, suffix=''):\n",
    "    \"\"\"\n",
    "    Print progress bar in command-line during excution.\n",
    "    Parameters\n",
    "    ----------\n",
    "    count : float\n",
    "        Current step count\n",
    "    total : float\n",
    "        Total number of steps to be carried out\n",
    "    suffix: string\n",
    "        Name of the progress bar\n",
    "    Returns\n",
    "    -------\n",
    "    [===========------------] 50% ...Example\n",
    "        Visual representation of the progress\n",
    "    \"\"\"\n",
    "\n",
    "    # Define the length of the bar\n",
    "    bar_len = 60\n",
    "\n",
    "    # Obtain the current progress in bar length\n",
    "    filled_len = int(round(bar_len * count / float(total)))\n",
    "\n",
    "    # Obtain the current progress percentage\n",
    "    percents = round(100.0 * count / float(total), 1)\n",
    "\n",
    "    # Write visual progress bar\n",
    "    bar = '=' * filled_len + '-' * (bar_len - filled_len)\n",
    "\n",
    "    # Print on command-line\n",
    "    sys.stdout.write('[%s] %s%s ...%s\\r' % (bar, percents, '%', suffix))\n",
    "    sys.stdout.flush()  "
   ]
  },
  {
   "cell_type": "code",
   "execution_count": 4,
   "metadata": {},
   "outputs": [
    {
     "name": "stdout",
     "output_type": "stream",
     "text": [
      "0\n",
      "10===========================================================] 100.0% ...\n",
      "20===========================================================] 100.0% ...\n",
      "30===========================================================] 100.0% ...\n",
      "50===========================================================] 100.0% ...\n",
      "75===========================================================] 100.0% ...\n",
      "100==========================================================] 100.0% ...\n",
      "125==========================================================] 100.0% ...\n",
      "150==========================================================] 100.0% ...\n",
      "200==========================================================] 100.0% ...\n",
      "250==========================================================] 100.0% ...\n",
      "300==========================================================] 100.0% ...\n",
      "400==========================================================] 100.0% ...\n",
      "500==========================================================] 100.0% ...\n",
      "600==========================================================] 100.0% ...\n",
      "700==========================================================] 100.0% ...\n",
      "[============================================================] 100.0% ...\r"
     ]
    }
   ],
   "source": [
    "depths = [   0,   10,   20,   30,   50,   75,  100,  125,  150,  200,\n",
    "        250,  300,  400,  500,  600,  700]\n",
    "\n",
    "# List all files\n",
    "files = glob.glob('tanom_3month/*.nc')\n",
    "\n",
    "# Unpack the dataset\n",
    "for depth in depths:\n",
    "    # Create an empty dataframe for concat\n",
    "    sub_surface = pd.DataFrame(columns=xr.open_dataset('tanom_3month/tanom_555507-09.nc',\n",
    "                                decode_times=False).to_dataframe().reset_index().columns)\n",
    "    print(depth)\n",
    "    \n",
    "    i=0\n",
    "    for filename in files:\n",
    "        i+=1\n",
    "        progress(i,len(files))\n",
    "        ds = xr.open_dataset(filename,decode_times=False).sel(depth=depth)\n",
    "        sub_temp = ds.to_dataframe().reset_index()\n",
    "        sub_temp = sub_temp[(sub_temp['lat'] < 61) & (sub_temp['lat']> -31) & ((sub_temp['lon'] < -79) | (sub_temp['lon'] > 99))]\n",
    "        sub_temp['time'] = ds.time_coverage_start\n",
    "        df1, df2 = sub_surface.align(sub_temp, axis=1)\n",
    "        sub_surface = pd.concat([df1,df2])\n",
    "        ds.close()\n",
    "    sub_surface.to_csv('raw-data_{}m-sub-temp.csv'.format(int(depth)),index=False)"
   ]
  },
  {
   "cell_type": "code",
   "execution_count": null,
   "metadata": {
    "collapsed": true
   },
   "outputs": [],
   "source": []
  }
 ],
 "metadata": {
  "kernelspec": {
   "display_name": "Python 3",
   "language": "python",
   "name": "python3"
  },
  "language_info": {
   "codemirror_mode": {
    "name": "ipython",
    "version": 3
   },
   "file_extension": ".py",
   "mimetype": "text/x-python",
   "name": "python",
   "nbconvert_exporter": "python",
   "pygments_lexer": "ipython3",
   "version": "3.6.1"
  }
 },
 "nbformat": 4,
 "nbformat_minor": 2
}
