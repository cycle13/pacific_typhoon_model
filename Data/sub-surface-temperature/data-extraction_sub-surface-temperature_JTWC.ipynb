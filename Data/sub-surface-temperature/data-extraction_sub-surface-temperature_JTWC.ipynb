{
 "cells": [
  {
   "cell_type": "code",
   "execution_count": 10,
   "metadata": {
    "collapsed": true
   },
   "outputs": [],
   "source": [
    "import xarray as xr\n",
    "import glob\n",
    "import pandas as pd\n",
    "import numpy as np\n",
    "import sys"
   ]
  },
  {
   "cell_type": "code",
   "execution_count": 11,
   "metadata": {
    "collapsed": true
   },
   "outputs": [],
   "source": [
    "def progress(count, total, suffix=''):\n",
    "    \"\"\"\n",
    "    Print progress bar in command-line during excution.\n",
    "    Parameters\n",
    "    ----------\n",
    "    count : float\n",
    "        Current step count\n",
    "    total : float\n",
    "        Total number of steps to be carried out\n",
    "    suffix: string\n",
    "        Name of the progress bar\n",
    "    Returns\n",
    "    -------\n",
    "    [===========------------] 50% ...Example\n",
    "        Visual representation of the progress\n",
    "    \"\"\"\n",
    "\n",
    "    # Define the length of the bar\n",
    "    bar_len = 60\n",
    "\n",
    "    # Obtain the current progress in bar length\n",
    "    filled_len = int(round(bar_len * count / float(total)))\n",
    "\n",
    "    # Obtain the current progress percentage\n",
    "    percents = round(100.0 * count / float(total), 1)\n",
    "\n",
    "    # Write visual progress bar\n",
    "    bar = '=' * filled_len + '-' * (bar_len - filled_len)\n",
    "\n",
    "    # Print on command-line\n",
    "    sys.stdout.write('[%s] %s%s ...%s\\r' % (bar, percents, '%', suffix))\n",
    "    sys.stdout.flush()  "
   ]
  },
  {
   "cell_type": "code",
   "execution_count": 18,
   "metadata": {},
   "outputs": [
    {
     "name": "stdout",
     "output_type": "stream",
     "text": [
      "0.0\n",
      "10.0=========================================================] 100.0% ...\n",
      "20.0=========================================================] 100.0% ...\n",
      "30.0=========================================================] 100.0% ...\n",
      "50.0=========================================================] 100.0% ...\n",
      "75.0=========================================================] 100.0% ...\n",
      "100.0========================================================] 100.0% ...\n",
      "125.0========================================================] 100.0% ...\n",
      "150.0========================================================] 100.0% ...\n",
      "200.0========================================================] 100.0% ...\n",
      "250.0========================================================] 100.0% ...\n",
      "300.0========================================================] 100.0% ...\n",
      "400.0========================================================] 100.0% ...\n",
      "500.0========================================================] 100.0% ...\n",
      "600.0========================================================] 100.0% ...\n",
      "700.0========================================================] 100.0% ...\n",
      "[============================================================] 100.0% ...\r"
     ]
    }
   ],
   "source": [
    " \n",
    "\n",
    "# List all files\n",
    "files = glob.glob('tanom_3month/*.nc')\n",
    "\n",
    "# Unpack the dataset\n",
    "for depth in depths:\n",
    "    # Create an empty dataframe for concat\n",
    "    sub_surface = pd.DataFrame(columns=xr.open_dataset('tanom_3month/tanom_555507-09.nc',\n",
    "                                decode_times=False).to_dataframe().reset_index().columns)\n",
    "    print(depth)\n",
    "    \n",
    "    i=0\n",
    "    for filename in files:\n",
    "        i+=1\n",
    "        progress(i,len(files))\n",
    "        ds = xr.open_dataset(filename,decode_times=False).sel(depth=depth)\n",
    "        sub_temp = ds.to_dataframe().reset_index()\n",
    "#         sub_temp = sub_temp.dropna()\n",
    "        sub_temp = sub_temp[(sub_temp['lat'] < 61) & (sub_temp['lat']> -1) & (sub_temp['lon'] < 181) & (sub_temp['lon'] > 99)]\n",
    "        sub_temp['time'] = ds.time_coverage_start\n",
    "        df1, df2 = sub_surface.align(sub_temp, axis=1)\n",
    "        sub_surface = pd.concat([df1,df2])\n",
    "        ds.close()\n",
    "    sub_surface.to_csv('raw-data_{}m-sub-temp.csv'.format(int(depth)),index=False)"
   ]
  },
  {
   "cell_type": "code",
   "execution_count": null,
   "metadata": {
    "collapsed": true
   },
   "outputs": [],
   "source": []
  },
  {
   "cell_type": "code",
   "execution_count": 14,
   "metadata": {
    "collapsed": true
   },
   "outputs": [],
   "source": [
    "test = xr.open_dataset('tanom_3month/tanom_555507-09.nc',\n",
    "                                decode_times=False)"
   ]
  },
  {
   "cell_type": "code",
   "execution_count": 17,
   "metadata": {},
   "outputs": [
    {
     "data": {
      "text/plain": [
       "'This variable defines the bounds of the climatological time period for each time'"
      ]
     },
     "execution_count": 17,
     "metadata": {},
     "output_type": "execute_result"
    }
   ],
   "source": [
    "test.climatology_bounds.comment"
   ]
  },
  {
   "cell_type": "code",
   "execution_count": 6,
   "metadata": {},
   "outputs": [
    {
     "data": {
      "text/plain": [
       "<xarray.Dataset>\n",
       "Dimensions:             (depth: 16, lat: 180, lon: 360, nbounds: 2, time: 1)\n",
       "Coordinates:\n",
       "  * lat                 (lat) float32 -89.5 -88.5 -87.5 -86.5 -85.5 -84.5 ...\n",
       "  * lon                 (lon) float32 -179.5 -178.5 -177.5 -176.5 -175.5 ...\n",
       "  * depth               (depth) float32 0.0 10.0 20.0 30.0 50.0 75.0 100.0 ...\n",
       "  * time                (time) float32 7.5\n",
       "Dimensions without coordinates: nbounds\n",
       "Data variables:\n",
       "    crs                 int64 -2147483647\n",
       "    lat_bnds            (lat, nbounds) float32 -90.0 -89.0 -89.0 -88.0 -88.0 ...\n",
       "    lon_bnds            (lon, nbounds) float32 -180.0 -179.0 -179.0 -178.0 ...\n",
       "    depth_bnds          (depth, nbounds) float32 0.0 5.0 5.0 15.0 15.0 25.0 ...\n",
       "    climatology_bounds  (time, nbounds) float32 6.0 9.0\n",
       "    t_an                (time, depth, lat, lon) float64 nan nan nan nan nan ...\n",
       "    t_mn                (time, depth, lat, lon) float64 nan nan nan nan nan ...\n",
       "    t_dd                (time, depth, lat, lon) float64 0.0 0.0 0.0 0.0 0.0 ...\n",
       "    t_gp                (time, depth, lat, lon) float64 nan nan nan nan nan ...\n",
       "    t_SE                (time, depth, lat, lon) float64 nan nan nan nan nan ...\n",
       "Attributes:\n",
       "    standard_name_vocabulary:        CF-1.6\n",
       "    featureType:                     Grid\n",
       "    cdm_data_type:                   Grid\n",
       "    Conventions:                     CF-1.6\n",
       "    title:                           Temperature anomalies from WOA09 : tempe...\n",
       "    summary:                         Mean ocean variable anomaly from in situ...\n",
       "    references:                      Levitus, S., J. I. Antonov, T. P. Boyer,...\n",
       "    institution:                     National Oceanographic Data Center(NODC)\n",
       "    comment:                         \n",
       "    id:                              SPECIAL\n",
       "    naming_authority:                gov.noaa.nodc\n",
       "    time_coverage_start:             1955-07-01\n",
       "    time_coverage_duration:          P03M\n",
       "    time_coverage_resolution:        P03M\n",
       "    geospatial_lat_min:              -90.0\n",
       "    geospatial_lat_max:              90.0\n",
       "    geospatial_lon_min:              -180.0\n",
       "    geospatial_lon_max:              180.0\n",
       "    geospatial_vertical_min:         0.0\n",
       "    geospatial_vertical_max:         700.0\n",
       "    geospatial_lat_units:            degrees_north\n",
       "    geospatial_lat_resolution:       1.00 degrees\n",
       "    geospatial_lon_units:            degrees_east\n",
       "    geospatial_lon_resolution:       1.00 degrees\n",
       "    geospatial_vertical_units:       m\n",
       "    geospatial_vertical_resolution:  \n",
       "    geospatial_vertical_positive:    down\n",
       "    creator_name:                    Ocean Climate Laboratory\n",
       "    creator_email:                   NODC.Services@noaa.gov\n",
       "    creator_url:                     http://www.nodc.noaa.gov\n",
       "    project:                         World Ocean Database\n",
       "    processing_level:                processed\n",
       "    keywords:                        <ISO_TOPIC_Category> Oceans</ISO_TOPIC_C...\n",
       "    keywords_vocabulary:             ISO 19115\n",
       "    contributor_name:                Ocean Climate Laboratory\n",
       "    contributor_role:                Calculation of anomalies\n",
       "    nodc_template_version:           NODC_NetCDF_Grid_Template_v1.0\n",
       "    date_created:                    2013-09-17 \n",
       "    date_modified:                   2013-09-17 \n",
       "    publisher_name:                  US NATIONAL OCEANOGRAPHIC DATA CENTER\n",
       "    publisher_url:                   http://www.nodc.noaa.gov/\n",
       "    publisher_email:                 NODC.Services@noaa.gov\n",
       "    license:                         These data are openly available to the p...\n",
       "    Metadata_Conventions:            Unidata Dataset Discovery v1.0\n",
       "    metadata_link:                   http://www.nodc.noaa.gov/OC5/3M_HEAT_CON..."
      ]
     },
     "execution_count": 6,
     "metadata": {},
     "output_type": "execute_result"
    }
   ],
   "source": [
    "test"
   ]
  },
  {
   "cell_type": "code",
   "execution_count": null,
   "metadata": {
    "collapsed": true
   },
   "outputs": [],
   "source": []
  }
 ],
 "metadata": {
  "kernelspec": {
   "display_name": "Python 3",
   "language": "python",
   "name": "python3"
  },
  "language_info": {
   "codemirror_mode": {
    "name": "ipython",
    "version": 3
   },
   "file_extension": ".py",
   "mimetype": "text/x-python",
   "name": "python",
   "nbconvert_exporter": "python",
   "pygments_lexer": "ipython3",
   "version": "3.6.1"
  }
 },
 "nbformat": 4,
 "nbformat_minor": 2
}
