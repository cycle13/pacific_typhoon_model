{
 "cells": [
  {
   "cell_type": "code",
   "execution_count": 1,
   "metadata": {
    "collapsed": true
   },
   "outputs": [],
   "source": [
    "# LIBRARY IMPORT\n",
    "import xarray as xr\n",
    "import matplotlib.pyplot as plt\n",
    "import numpy as np\n",
    "import pandas as pd"
   ]
  },
  {
   "cell_type": "code",
   "execution_count": 2,
   "metadata": {
    "collapsed": true
   },
   "outputs": [],
   "source": [
    "#--------------------------------------------------------------------------------------#\n",
    "START_YEAR                  = 1951 \n",
    "END_YEAR                    = 2010 \n",
    "#--------------------------------------------------------------------------------------#"
   ]
  },
  {
   "cell_type": "code",
   "execution_count": 3,
   "metadata": {
    "collapsed": true
   },
   "outputs": [],
   "source": [
    "# Unpack the dataset\n",
    "ds = xr.open_dataset('Allstorms.ibtracs_all.v03r09.nc',decode_times=False)"
   ]
  },
  {
   "cell_type": "code",
   "execution_count": 4,
   "metadata": {
    "collapsed": true
   },
   "outputs": [],
   "source": [
    "INDEX_RECORD_SOURCE = 10 # JTWC_WP = 10\n",
    "\n",
    "time_criteria = (ds.season <= END_YEAR) & (ds.season >= START_YEAR)\n",
    "temp_matrix = np.ones([1,191])\n",
    "\n",
    "storm           = np.ravel(np.multiply(temp_matrix,ds.storm[time_criteria].values[:,np.newaxis]))\n",
    "season          = np.ravel(np.multiply(temp_matrix,ds.season[time_criteria].values[:,np.newaxis]))\n",
    "genesis_basin   = np.ravel(np.multiply(temp_matrix,ds.genesis_basin[time_criteria].values[:,np.newaxis]))\n",
    "basin           = np.ravel(np.multiply(temp_matrix,ds.basin[time_criteria].values[:,np.newaxis]))\n",
    "source_time     = np.ravel(np.multiply(temp_matrix,ds.source_time[time_criteria].values[:,np.newaxis]))\n",
    "source_lat      = np.ravel(ds.source_lat[time_criteria,:,INDEX_RECORD_SOURCE].values)\n",
    "source_lon      = np.ravel(ds.source_lon[time_criteria,:,INDEX_RECORD_SOURCE].values)\n",
    "source_wind     = np.ravel(ds.source_wind[time_criteria,:,INDEX_RECORD_SOURCE].values)\n",
    "dist2land       = np.ravel(np.multiply(temp_matrix,ds.dist2land[time_criteria].values[:,np.newaxis]))\n",
    "landfall        = np.ravel(np.multiply(temp_matrix,ds.landfall[time_criteria].values[:,np.newaxis]))"
   ]
  },
  {
   "cell_type": "code",
   "execution_count": 5,
   "metadata": {
    "collapsed": true
   },
   "outputs": [],
   "source": [
    "dataset = pd.DataFrame({'CycNo':storm,'YEAR':season,'GENESIS':genesis_basin,'BASIN':basin,'S_TIME':source_time,\n",
    "                        'LAT':source_lat,\n",
    "                        'LON':source_lon,\n",
    "                        'VMAX':source_wind,\n",
    "                        'DIST2LAND':dist2land,\n",
    "                        'LANDFALL':landfall\n",
    "                       })"
   ]
  },
  {
   "cell_type": "code",
   "execution_count": 6,
   "metadata": {},
   "outputs": [
    {
     "data": {
      "text/html": [
       "<div>\n",
       "<style>\n",
       "    .dataframe thead tr:only-child th {\n",
       "        text-align: right;\n",
       "    }\n",
       "\n",
       "    .dataframe thead th {\n",
       "        text-align: left;\n",
       "    }\n",
       "\n",
       "    .dataframe tbody tr th {\n",
       "        vertical-align: top;\n",
       "    }\n",
       "</style>\n",
       "<table border=\"1\" class=\"dataframe\">\n",
       "  <thead>\n",
       "    <tr style=\"text-align: right;\">\n",
       "      <th></th>\n",
       "      <th>BASIN</th>\n",
       "      <th>CycNo</th>\n",
       "      <th>DIST2LAND</th>\n",
       "      <th>GENESIS</th>\n",
       "      <th>LANDFALL</th>\n",
       "      <th>LAT</th>\n",
       "      <th>LON</th>\n",
       "      <th>S_TIME</th>\n",
       "      <th>VMAX</th>\n",
       "      <th>YEAR</th>\n",
       "    </tr>\n",
       "  </thead>\n",
       "  <tbody>\n",
       "    <tr>\n",
       "      <th>0</th>\n",
       "      <td>4.0</td>\n",
       "      <td>5382.0</td>\n",
       "      <td>674.0</td>\n",
       "      <td>4.0</td>\n",
       "      <td>674.0</td>\n",
       "      <td>NaN</td>\n",
       "      <td>NaN</td>\n",
       "      <td>33512.00</td>\n",
       "      <td>NaN</td>\n",
       "      <td>1951.0</td>\n",
       "    </tr>\n",
       "    <tr>\n",
       "      <th>1</th>\n",
       "      <td>4.0</td>\n",
       "      <td>5382.0</td>\n",
       "      <td>815.0</td>\n",
       "      <td>4.0</td>\n",
       "      <td>815.0</td>\n",
       "      <td>NaN</td>\n",
       "      <td>NaN</td>\n",
       "      <td>33512.25</td>\n",
       "      <td>NaN</td>\n",
       "      <td>1951.0</td>\n",
       "    </tr>\n",
       "    <tr>\n",
       "      <th>2</th>\n",
       "      <td>4.0</td>\n",
       "      <td>5382.0</td>\n",
       "      <td>939.0</td>\n",
       "      <td>4.0</td>\n",
       "      <td>939.0</td>\n",
       "      <td>NaN</td>\n",
       "      <td>NaN</td>\n",
       "      <td>33512.50</td>\n",
       "      <td>NaN</td>\n",
       "      <td>1951.0</td>\n",
       "    </tr>\n",
       "    <tr>\n",
       "      <th>3</th>\n",
       "      <td>4.0</td>\n",
       "      <td>5382.0</td>\n",
       "      <td>1049.0</td>\n",
       "      <td>4.0</td>\n",
       "      <td>1049.0</td>\n",
       "      <td>NaN</td>\n",
       "      <td>NaN</td>\n",
       "      <td>33512.75</td>\n",
       "      <td>NaN</td>\n",
       "      <td>1951.0</td>\n",
       "    </tr>\n",
       "    <tr>\n",
       "      <th>4</th>\n",
       "      <td>4.0</td>\n",
       "      <td>5382.0</td>\n",
       "      <td>1149.0</td>\n",
       "      <td>4.0</td>\n",
       "      <td>1149.0</td>\n",
       "      <td>NaN</td>\n",
       "      <td>NaN</td>\n",
       "      <td>33513.00</td>\n",
       "      <td>NaN</td>\n",
       "      <td>1951.0</td>\n",
       "    </tr>\n",
       "  </tbody>\n",
       "</table>\n",
       "</div>"
      ],
      "text/plain": [
       "   BASIN   CycNo  DIST2LAND  GENESIS  LANDFALL  LAT  LON    S_TIME  VMAX  \\\n",
       "0    4.0  5382.0      674.0      4.0     674.0  NaN  NaN  33512.00   NaN   \n",
       "1    4.0  5382.0      815.0      4.0     815.0  NaN  NaN  33512.25   NaN   \n",
       "2    4.0  5382.0      939.0      4.0     939.0  NaN  NaN  33512.50   NaN   \n",
       "3    4.0  5382.0     1049.0      4.0    1049.0  NaN  NaN  33512.75   NaN   \n",
       "4    4.0  5382.0     1149.0      4.0    1149.0  NaN  NaN  33513.00   NaN   \n",
       "\n",
       "     YEAR  \n",
       "0  1951.0  \n",
       "1  1951.0  \n",
       "2  1951.0  \n",
       "3  1951.0  \n",
       "4  1951.0  "
      ]
     },
     "execution_count": 6,
     "metadata": {},
     "output_type": "execute_result"
    }
   ],
   "source": [
    "dataset.head()"
   ]
  },
  {
   "cell_type": "code",
   "execution_count": 7,
   "metadata": {
    "collapsed": true
   },
   "outputs": [],
   "source": [
    "# Remove data points with null latitude\n",
    "dataset = dataset[dataset['LAT'].notnull()]\n",
    "\n",
    "# Remove data points with null vmax\n",
    "dataset = dataset[dataset['VMAX'].notnull()]\n",
    "\n",
    "# Remove data points from different basins\n",
    "dataset = dataset[dataset['BASIN'] == 2]"
   ]
  },
  {
   "cell_type": "code",
   "execution_count": 8,
   "metadata": {},
   "outputs": [
    {
     "name": "stdout",
     "output_type": "stream",
     "text": [
      "Number of cyclones found: 1707\n"
     ]
    }
   ],
   "source": [
    "print('Number of cyclones found: {}'.format(dataset['CycNo'].nunique()))"
   ]
  },
  {
   "cell_type": "code",
   "execution_count": 9,
   "metadata": {
    "collapsed": true
   },
   "outputs": [],
   "source": [
    "dataset.to_csv('data_ibtracs_JTWC.csv', index=False)"
   ]
  }
 ],
 "metadata": {
  "kernelspec": {
   "display_name": "Python 2",
   "language": "python",
   "name": "python2"
  },
  "language_info": {
   "codemirror_mode": {
    "name": "ipython",
    "version": 3
   },
   "file_extension": ".py",
   "mimetype": "text/x-python",
   "name": "python",
   "nbconvert_exporter": "python",
   "pygments_lexer": "ipython3",
   "version": "3.6.1"
  }
 },
 "nbformat": 4,
 "nbformat_minor": 2
}
