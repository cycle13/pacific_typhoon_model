{
 "cells": [
  {
   "cell_type": "code",
   "execution_count": 1,
   "metadata": {
    "collapsed": true
   },
   "outputs": [],
   "source": [
    "# LIBRARY IMPORT\n",
    "import xarray as xr\n",
    "import matplotlib.pyplot as plt\n",
    "import numpy as np\n",
    "\n",
    "# Unpack the dataset\n",
    "ds = xr.open_dataset('HadISST_sst.nc')\n",
    "\n",
    "# Choose the sea surface temperature variable\n",
    "SST = ds.sst"
   ]
  },
  {
   "cell_type": "code",
   "execution_count": 2,
   "metadata": {
    "collapsed": true
   },
   "outputs": [],
   "source": [
    "SST = SST.sel(time=slice('1951-01','2010-12'))"
   ]
  },
  {
   "cell_type": "code",
   "execution_count": 3,
   "metadata": {
    "collapsed": true
   },
   "outputs": [],
   "source": [
    "# Replace fill values\n",
    "SST[SST==-1000.]=np.nan"
   ]
  },
  {
   "cell_type": "code",
   "execution_count": 7,
   "metadata": {
    "collapsed": true
   },
   "outputs": [],
   "source": [
    "# Export global mean sst\n",
    "SST.groupby(SST.time.dt.year).mean().to_dataframe().reset_index().to_csv('global_sst.csv',index=False)"
   ]
  },
  {
   "cell_type": "code",
   "execution_count": 8,
   "metadata": {
    "collapsed": true
   },
   "outputs": [],
   "source": [
    "# Create a list of the interested latitudes\n",
    "lats = np.linspace(0.5,50.5,51)\n",
    "\n",
    "# Seclect SST only for those latitudes\n",
    "sst = SST.sel(latitude=lats)\n",
    "\n",
    "# Create a list of the interested longitudes\n",
    "lons = np.linspace(99.5,179.5,81)\n",
    "\n",
    "# Seclect SST only for those longitudes\n",
    "sst = sst.sel(longitude=lons)"
   ]
  },
  {
   "cell_type": "code",
   "execution_count": 9,
   "metadata": {
    "collapsed": true
   },
   "outputs": [],
   "source": [
    "sst.to_netcdf('reduced_sst.nc')"
   ]
  },
  {
   "cell_type": "code",
   "execution_count": null,
   "metadata": {
    "collapsed": true
   },
   "outputs": [],
   "source": []
  }
 ],
 "metadata": {
  "kernelspec": {
   "display_name": "Python 2",
   "language": "python",
   "name": "python2"
  },
  "language_info": {
   "codemirror_mode": {
    "name": "ipython",
    "version": 3
   },
   "file_extension": ".py",
   "mimetype": "text/x-python",
   "name": "python",
   "nbconvert_exporter": "python",
   "pygments_lexer": "ipython3",
   "version": "3.6.1"
  }
 },
 "nbformat": 4,
 "nbformat_minor": 2
}
