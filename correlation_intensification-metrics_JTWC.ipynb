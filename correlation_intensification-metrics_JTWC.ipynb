{
 "cells": [
  {
   "cell_type": "code",
   "execution_count": 1,
   "metadata": {
    "collapsed": true
   },
   "outputs": [],
   "source": [
    "from preamble import *"
   ]
  },
  {
   "cell_type": "code",
   "execution_count": 2,
   "metadata": {
    "collapsed": true
   },
   "outputs": [],
   "source": [
    "#------------------------------------------------------------#\n",
    "MaxIntFilter = 33/0.514444 #knots\n",
    "#------------------------------------------------------------#"
   ]
  },
  {
   "cell_type": "code",
   "execution_count": 3,
   "metadata": {
    "collapsed": true
   },
   "outputs": [],
   "source": [
    "# Load the ibtracs dataset\n",
    "dataset = pd.read_csv('Data/IBTrACS/data_ibtracs_JTWC.csv')\n",
    "\n",
    "# Apply VMAX corrections\n",
    "dataset['A_VMAX'] = 0.1884 * dataset['VMAX']**1.288\n",
    "dataset['VMAX2'] = 0\n",
    "dataset.loc[dataset['YEAR'] < 1968, 'VMAX2'] = 0.4 * dataset['VMAX'] + 0.6 * dataset['A_VMAX']\n",
    "dataset.loc[dataset['YEAR'].between(1968,1972), 'VMAX2'] = 0.8 * dataset['VMAX'] + 0.2 * dataset['A_VMAX']\n",
    "dataset.loc[dataset['YEAR'] > 1972, 'VMAX2'] = dataset['VMAX']\n",
    "dataset = dataset.drop(['VMAX','A_VMAX'], axis=1)\n",
    "dataset = dataset.rename(columns={'VMAX2': 'VMAX'})"
   ]
  },
  {
   "cell_type": "code",
   "execution_count": 4,
   "metadata": {
    "collapsed": true
   },
   "outputs": [],
   "source": [
    "# Determine maximum intensity of the each cyclone\n",
    "max_int = dataset.groupby('CycNo')['VMAX'].max().rename('VMAX').reset_index()\n",
    "\n",
    "# Remove cyclones with maximum intensity lower than defined\n",
    "max_int = max_int[max_int['VMAX'] > MaxIntFilter]\n",
    "dataset = dataset[dataset['CycNo'].isin(max_int['CycNo'])]"
   ]
  },
  {
   "cell_type": "code",
   "execution_count": 5,
   "metadata": {
    "collapsed": true
   },
   "outputs": [],
   "source": [
    "# Remove cylones that did not start in West Pacific\n",
    "# dataset = dataset[dataset['GENESIS']==2]"
   ]
  },
  {
   "cell_type": "code",
   "execution_count": 6,
   "metadata": {
    "collapsed": true
   },
   "outputs": [],
   "source": [
    "# Remove cyclones moved over land during its intensification\n",
    "def influence(data):\n",
    "    peak_time = data['S_TIME'][data['VMAX'].idxmax()]\n",
    "    try:\n",
    "        landfall_time = data[data['DIST2LAND'] == 0].iloc[0]['S_TIME']\n",
    "        if landfall_time <= peak_time:\n",
    "            return True\n",
    "        else:\n",
    "            return False\n",
    "    except:\n",
    "        return False\n",
    "affected_cyclones = dataset.groupby('CycNo').apply(influence).rename('affected').reset_index()\n",
    "affected_cyclones = affected_cyclones[affected_cyclones['affected']==False]\n",
    "dataset = dataset[dataset['CycNo'].isin(affected_cyclones['CycNo'])]"
   ]
  },
  {
   "cell_type": "markdown",
   "metadata": {},
   "source": [
    "### 1. Average Maximum Intensity"
   ]
  },
  {
   "cell_type": "code",
   "execution_count": 7,
   "metadata": {
    "collapsed": true
   },
   "outputs": [],
   "source": [
    "# Determine the years in which the cyclones occured\n",
    "year_occur = dataset.groupby('CycNo')['YEAR'].agg(lambda x: stats.mode(x)[0][0]).astype(int).reset_index()"
   ]
  },
  {
   "cell_type": "code",
   "execution_count": 8,
   "metadata": {
    "collapsed": true
   },
   "outputs": [],
   "source": [
    "# Determine maximum intensity of each cyclone\n",
    "max_int = dataset.groupby('CycNo')['VMAX'].max().reset_index()"
   ]
  },
  {
   "cell_type": "code",
   "execution_count": 9,
   "metadata": {
    "collapsed": true
   },
   "outputs": [],
   "source": [
    "# Create a table containing metrics for each cyclones\n",
    "cyclone_metrics = year_occur.merge(max_int, on ='CycNo', how='inner')"
   ]
  },
  {
   "cell_type": "markdown",
   "metadata": {},
   "source": [
    "### 2. Average Intensification Rate"
   ]
  },
  {
   "cell_type": "code",
   "execution_count": 10,
   "metadata": {
    "collapsed": true
   },
   "outputs": [],
   "source": [
    "dataset['TIMESTAMP'] = pd.to_datetime('1858-11-17', format='%Y-%m-%d') + pd.to_timedelta(dataset['S_TIME'], unit='d')"
   ]
  },
  {
   "cell_type": "code",
   "execution_count": 11,
   "metadata": {},
   "outputs": [],
   "source": [
    "# def int_rate(data):\n",
    "#     data = data[(data.index >= data[data['VMAX']>=MaxIntFilter].index[0]-1) & (data.index <= (data['VMAX'].idxmax()+1))]\n",
    "#     data = data.set_index('TIMESTAMP')\n",
    "#     data = data.resample('6h').interpolate(method='time').reset_index()\n",
    "#     result = data['VMAX'].rolling(min_periods=3, window=3, center=True).apply(lambda x: (x[2] - x[0])/2)\n",
    "#     return result.mean()\n",
    "\n",
    "# # Calculate average intensification rate\n",
    "# ave_int_rate = dataset.groupby('CycNo').apply(int_rate).rename('Intensification Rate').reset_index()"
   ]
  },
  {
   "cell_type": "code",
   "execution_count": 13,
   "metadata": {},
   "outputs": [],
   "source": [
    "def int_rate2(data):\n",
    "    data = data[(data.index >= data[data['VMAX']>=MaxIntFilter].index[0]-1) & (data.index <= (data['VMAX'].idxmax()+1))]\n",
    "    rate = (data['VMAX'] - data['VMAX'].shift(2))/(data['S_TIME'] - data['S_TIME'].shift(2))*0.25\n",
    "    return rate.mean()\n",
    "\n",
    "# Calculate average intensification rate\n",
    "ave_int_rate = dataset.groupby('CycNo').apply(int_rate2).rename('Intensification Rate').reset_index()"
   ]
  },
  {
   "cell_type": "code",
   "execution_count": 14,
   "metadata": {},
   "outputs": [
    {
     "data": {
      "text/plain": [
       "array([ 5852.,  6680.])"
      ]
     },
     "execution_count": 14,
     "metadata": {},
     "output_type": "execute_result"
    }
   ],
   "source": [
    "# List cyclones with invalid intensification rate\n",
    "invalid_cyclone = ave_int_rate[ave_int_rate.isnull().any(axis=1)]['CycNo'].values\n",
    "invalid_cyclone"
   ]
  },
  {
   "cell_type": "code",
   "execution_count": 15,
   "metadata": {
    "collapsed": true
   },
   "outputs": [],
   "source": [
    "cyclone_metrics = cyclone_metrics.merge(ave_int_rate, on ='CycNo', how='inner')"
   ]
  },
  {
   "cell_type": "markdown",
   "metadata": {},
   "source": [
    "### 3. Average Intensification Duration"
   ]
  },
  {
   "cell_type": "code",
   "execution_count": null,
   "metadata": {},
   "outputs": [],
   "source": [
    "def duration(data):\n",
    "    time_start = data[data['VMAX']>=MaxIntFilter].iloc[0]['S_TIME']\n",
    "    time_peak = data['S_TIME'][data['VMAX'].idxmax()]\n",
    "    dur = time_peak-time_start\n",
    "\n",
    "    if dur == 0:\n",
    "        data = data.set_index('TIMESTAMP')\n",
    "        data = data.resample('10Min').interpolate(method='time').reset_index()\n",
    "        time_start = data[data['VMAX']>=MaxIntFilter].iloc[0]['S_TIME']\n",
    "        time_peak = data['S_TIME'][data['VMAX'].idxmax()]\n",
    "        dur = time_peak-time_start\n",
    "    \n",
    "    return dur\n",
    "        \n",
    "# Determine average intensification duration\n",
    "int_duration = dataset.groupby('CycNo').apply(duration).rename('Intensification Duration').reset_index()"
   ]
  },
  {
   "cell_type": "code",
   "execution_count": null,
   "metadata": {},
   "outputs": [],
   "source": [
    "# List cyclones with invalid intensification duration\n",
    "int_duration[int_duration['Intensification Duration'] == 0]['CycNo'].values"
   ]
  },
  {
   "cell_type": "code",
   "execution_count": null,
   "metadata": {
    "collapsed": true
   },
   "outputs": [],
   "source": [
    "cyclone_metrics = cyclone_metrics.merge(int_duration, on ='CycNo', how='inner')"
   ]
  },
  {
   "cell_type": "markdown",
   "metadata": {},
   "source": [
    "### 4. Data Analysis"
   ]
  },
  {
   "cell_type": "code",
   "execution_count": null,
   "metadata": {
    "collapsed": true
   },
   "outputs": [],
   "source": [
    "# Removal of invalid cyclones\n",
    "cyclone_metrics = cyclone_metrics[~cyclone_metrics['CycNo'].isin(invalid_cyclone)]"
   ]
  },
  {
   "cell_type": "code",
   "execution_count": null,
   "metadata": {
    "collapsed": true
   },
   "outputs": [],
   "source": [
    "# Calculate annual mean of cyclone metrics\n",
    "metrics = ['VMAX','Intensification Rate','Intensification Duration']\n",
    "annual_cyclone_metrics = cyclone_metrics.groupby(['YEAR'])[metrics].mean().reset_index()\n",
    "\n",
    "# Convert data to m/s\n",
    "annual_cyclone_metrics['VMAX'] = annual_cyclone_metrics['VMAX']*0.514444\n",
    "annual_cyclone_metrics['Intensification Rate'] = annual_cyclone_metrics['Intensification Rate']*0.514444\n",
    "\n",
    "# Creat TIME column for plotting\n",
    "annual_cyclone_metrics['TIME'] = pd.to_datetime(annual_cyclone_metrics['YEAR'], format='%Y')"
   ]
  },
  {
   "cell_type": "code",
   "execution_count": null,
   "metadata": {
    "collapsed": true
   },
   "outputs": [],
   "source": [
    "# Calculate decadal mean for maximum intensity\n",
    "rolling = annual_cyclone_metrics\n",
    "rolling = rolling.set_index('TIME')\n",
    "\n",
    "rolling = rolling.rolling(min_periods=9, window=9, center=True)[metrics].mean().reset_index()\n",
    "rolling.columns = ['TIME', '9-year average VMAX', '9-year average Int Rate', '9-year average Int Duration']\n",
    "\n",
    "# Merge with original cyclone metrics dataframe\n",
    "annual_cyclone_metrics = annual_cyclone_metrics.merge(rolling, on ='TIME', how='inner')"
   ]
  },
  {
   "cell_type": "markdown",
   "metadata": {},
   "source": [
    "### Average Maximum Intensity Plot"
   ]
  },
  {
   "cell_type": "code",
   "execution_count": null,
   "metadata": {},
   "outputs": [],
   "source": [
    "ax = annual_cyclone_metrics.plot('TIME', ['VMAX','9-year average VMAX'])\n",
    "plt.ylabel('Average Peak Intensity (m/s)')\n",
    "plt.xlabel('Year')\n",
    "plt.show()"
   ]
  },
  {
   "cell_type": "markdown",
   "metadata": {},
   "source": [
    "### Average Intensification Rate Plot"
   ]
  },
  {
   "cell_type": "code",
   "execution_count": null,
   "metadata": {},
   "outputs": [],
   "source": [
    "ax = annual_cyclone_metrics.plot('TIME', ['Intensification Rate','9-year average Int Rate'])\n",
    "plt.ylabel('Average Intensification Rate (m/s/6h)')\n",
    "plt.xlabel('Year')\n",
    "plt.show()"
   ]
  },
  {
   "cell_type": "markdown",
   "metadata": {},
   "source": [
    "### Average Intensification Duration Plot"
   ]
  },
  {
   "cell_type": "code",
   "execution_count": null,
   "metadata": {},
   "outputs": [],
   "source": [
    "ax = annual_cyclone_metrics.plot('TIME', ['Intensification Duration','9-year average Int Duration'])\n",
    "plt.ylabel('Average Intensification Duration (days)')\n",
    "plt.xlabel('Year')\n",
    "plt.show()"
   ]
  },
  {
   "cell_type": "code",
   "execution_count": null,
   "metadata": {},
   "outputs": [],
   "source": [
    "annual_cyclone_metrics['Prediction'] = annual_cyclone_metrics['Intensification Duration']*annual_cyclone_metrics['Intensification Rate']*4 + MaxIntFilter*0.514444\n",
    "ax = annual_cyclone_metrics.plot('TIME','Prediction')\n",
    "annual_cyclone_metrics.plot('TIME','VMAX',ax=ax)\n",
    "plt.title('r= {:.3f}, {} cyclones'.format(np.corrcoef(annual_cyclone_metrics['Prediction'], annual_cyclone_metrics['VMAX'])[0][1],cyclone_metrics['CycNo'].nunique()))\n",
    "plt.show()"
   ]
  },
  {
   "cell_type": "code",
   "execution_count": null,
   "metadata": {
    "collapsed": true
   },
   "outputs": [],
   "source": [
    "annual_cyclone_metrics[['YEAR','Intensification Rate', '9-year average Int Rate']].to_csv('Data/Computed-Data/computed_annual-intensification-rate_JTWC.csv',index=False)"
   ]
  },
  {
   "cell_type": "code",
   "execution_count": null,
   "metadata": {
    "collapsed": true
   },
   "outputs": [],
   "source": [
    "annual_cyclone_metrics[['YEAR','Intensification Duration', '9-year average Int Duration']].to_csv('Data/Computed-Data/computed_annual-intensification-duration_JTWC.csv',index=False)"
   ]
  },
  {
   "cell_type": "code",
   "execution_count": null,
   "metadata": {
    "collapsed": true
   },
   "outputs": [],
   "source": [
    "annual_cyclone_metrics[['YEAR','VMAX', '9-year average VMAX']].to_csv('Data/Computed-Data/computed_annual-max-intensity_JTWC.csv',index=False)"
   ]
  },
  {
   "cell_type": "code",
   "execution_count": null,
   "metadata": {
    "collapsed": true
   },
   "outputs": [],
   "source": []
  }
 ],
 "metadata": {
  "kernelspec": {
   "display_name": "Python 3",
   "language": "python",
   "name": "python3"
  },
  "language_info": {
   "codemirror_mode": {
    "name": "ipython",
    "version": 3
   },
   "file_extension": ".py",
   "mimetype": "text/x-python",
   "name": "python",
   "nbconvert_exporter": "python",
   "pygments_lexer": "ipython3",
   "version": "3.6.1"
  }
 },
 "nbformat": 4,
 "nbformat_minor": 2
}
