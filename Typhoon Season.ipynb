{
 "cells": [
  {
   "cell_type": "code",
   "execution_count": 1,
   "metadata": {
    "collapsed": true
   },
   "outputs": [],
   "source": [
    "import pandas as pd\n",
    "import matplotlib.pyplot as plt\n",
    "from scipy import stats\n",
    "import numpy as np"
   ]
  },
  {
   "cell_type": "code",
   "execution_count": 2,
   "metadata": {
    "collapsed": true
   },
   "outputs": [],
   "source": [
    "dataset = pd.read_csv('IBTrACS/clean_ibtrac.csv', low_memory=False) "
   ]
  },
  {
   "cell_type": "code",
   "execution_count": 3,
   "metadata": {
    "collapsed": true
   },
   "outputs": [],
   "source": [
    "dataset['TIMESTAMP'] = pd.to_datetime('1858-11-17', format='%Y-%m-%d') + pd.to_timedelta(dataset.TIME, unit='d')"
   ]
  },
  {
   "cell_type": "code",
   "execution_count": 4,
   "metadata": {
    "collapsed": true
   },
   "outputs": [],
   "source": [
    "dataset['MONTH'] = dataset['TIMESTAMP'].apply(lambda x: x.month)"
   ]
  },
  {
   "cell_type": "code",
   "execution_count": 5,
   "metadata": {},
   "outputs": [
    {
     "data": {
      "text/html": [
       "<div>\n",
       "<style>\n",
       "    .dataframe thead tr:only-child th {\n",
       "        text-align: right;\n",
       "    }\n",
       "\n",
       "    .dataframe thead th {\n",
       "        text-align: left;\n",
       "    }\n",
       "\n",
       "    .dataframe tbody tr th {\n",
       "        vertical-align: top;\n",
       "    }\n",
       "</style>\n",
       "<table border=\"1\" class=\"dataframe\">\n",
       "  <thead>\n",
       "    <tr style=\"text-align: right;\">\n",
       "      <th></th>\n",
       "      <th>CycNo</th>\n",
       "      <th>LAT</th>\n",
       "      <th>LON</th>\n",
       "      <th>TIME</th>\n",
       "      <th>YEAR</th>\n",
       "      <th>A_VMAX</th>\n",
       "      <th>VMAX</th>\n",
       "      <th>REGION</th>\n",
       "      <th>REGION2</th>\n",
       "      <th>TIMESTAMP</th>\n",
       "      <th>MONTH</th>\n",
       "    </tr>\n",
       "  </thead>\n",
       "  <tbody>\n",
       "    <tr>\n",
       "      <th>0</th>\n",
       "      <td>5459</td>\n",
       "      <td>7.3</td>\n",
       "      <td>142.800003</td>\n",
       "      <td>33765.50</td>\n",
       "      <td>1951</td>\n",
       "      <td>18.358641</td>\n",
       "      <td>25.015185</td>\n",
       "      <td>False</td>\n",
       "      <td>True</td>\n",
       "      <td>1951-04-29 12:00:00</td>\n",
       "      <td>4</td>\n",
       "    </tr>\n",
       "    <tr>\n",
       "      <th>1</th>\n",
       "      <td>5459</td>\n",
       "      <td>7.4</td>\n",
       "      <td>142.399994</td>\n",
       "      <td>33765.75</td>\n",
       "      <td>1951</td>\n",
       "      <td>25.375734</td>\n",
       "      <td>33.225441</td>\n",
       "      <td>False</td>\n",
       "      <td>True</td>\n",
       "      <td>1951-04-29 18:00:00</td>\n",
       "      <td>4</td>\n",
       "    </tr>\n",
       "    <tr>\n",
       "      <th>2</th>\n",
       "      <td>5459</td>\n",
       "      <td>7.8</td>\n",
       "      <td>141.800003</td>\n",
       "      <td>33766.00</td>\n",
       "      <td>1951</td>\n",
       "      <td>32.860037</td>\n",
       "      <td>41.716022</td>\n",
       "      <td>False</td>\n",
       "      <td>True</td>\n",
       "      <td>1951-04-30 00:00:00</td>\n",
       "      <td>4</td>\n",
       "    </tr>\n",
       "    <tr>\n",
       "      <th>3</th>\n",
       "      <td>5459</td>\n",
       "      <td>8.2</td>\n",
       "      <td>141.099991</td>\n",
       "      <td>33766.25</td>\n",
       "      <td>1951</td>\n",
       "      <td>36.756970</td>\n",
       "      <td>46.054182</td>\n",
       "      <td>False</td>\n",
       "      <td>True</td>\n",
       "      <td>1951-04-30 06:00:00</td>\n",
       "      <td>4</td>\n",
       "    </tr>\n",
       "    <tr>\n",
       "      <th>4</th>\n",
       "      <td>5459</td>\n",
       "      <td>8.5</td>\n",
       "      <td>140.199997</td>\n",
       "      <td>33766.50</td>\n",
       "      <td>1951</td>\n",
       "      <td>40.748657</td>\n",
       "      <td>50.449194</td>\n",
       "      <td>False</td>\n",
       "      <td>True</td>\n",
       "      <td>1951-04-30 12:00:00</td>\n",
       "      <td>4</td>\n",
       "    </tr>\n",
       "  </tbody>\n",
       "</table>\n",
       "</div>"
      ],
      "text/plain": [
       "   CycNo  LAT         LON      TIME  YEAR     A_VMAX       VMAX  REGION  \\\n",
       "0   5459  7.3  142.800003  33765.50  1951  18.358641  25.015185   False   \n",
       "1   5459  7.4  142.399994  33765.75  1951  25.375734  33.225441   False   \n",
       "2   5459  7.8  141.800003  33766.00  1951  32.860037  41.716022   False   \n",
       "3   5459  8.2  141.099991  33766.25  1951  36.756970  46.054182   False   \n",
       "4   5459  8.5  140.199997  33766.50  1951  40.748657  50.449194   False   \n",
       "\n",
       "   REGION2           TIMESTAMP  MONTH  \n",
       "0     True 1951-04-29 12:00:00      4  \n",
       "1     True 1951-04-29 18:00:00      4  \n",
       "2     True 1951-04-30 00:00:00      4  \n",
       "3     True 1951-04-30 06:00:00      4  \n",
       "4     True 1951-04-30 12:00:00      4  "
      ]
     },
     "execution_count": 5,
     "metadata": {},
     "output_type": "execute_result"
    }
   ],
   "source": [
    "dataset.head()"
   ]
  },
  {
   "cell_type": "code",
   "execution_count": 6,
   "metadata": {
    "collapsed": true
   },
   "outputs": [],
   "source": [
    "month_occur = dataset.groupby('CycNo')['MONTH'].agg(lambda x: stats.mode(x)[0][0]).reset_index()"
   ]
  },
  {
   "cell_type": "code",
   "execution_count": 7,
   "metadata": {},
   "outputs": [
    {
     "data": {
      "text/plain": [
       "MONTH\n",
       "1      13\n",
       "2       3\n",
       "3       7\n",
       "4      22\n",
       "5      35\n",
       "6      48\n",
       "7     118\n",
       "8     143\n",
       "9     162\n",
       "10    141\n",
       "11     89\n",
       "12     44\n",
       "Name: CycNo, dtype: int64"
      ]
     },
     "execution_count": 7,
     "metadata": {},
     "output_type": "execute_result"
    }
   ],
   "source": [
    "month_occur.groupby('MONTH')['CycNo'].count()"
   ]
  },
  {
   "cell_type": "code",
   "execution_count": 21,
   "metadata": {},
   "outputs": [
    {
     "data": {
      "image/png": "[encoded data removed]",
      "text/plain": [
       "<matplotlib.figure.Figure at 0x11a909eb8>"
      ]
     },
     "metadata": {},
     "output_type": "display_data"
    }
   ],
   "source": [
    "graph1 = month_occur.groupby('MONTH')['CycNo'].count()\n",
    "graph1.plot(kind='bar')\n",
    "plt.ylabel('Number of typhoons')\n",
    "plt.show()"
   ]
  },
  {
   "cell_type": "code",
   "execution_count": 15,
   "metadata": {
    "collapsed": true
   },
   "outputs": [],
   "source": [
    "bins = [1, 3, 6, 9, 12]\n",
    "group_names = ['Jan-March', 'April-June', 'July-Sep', 'October-December']\n",
    "month_occur['categories'] = pd.cut(month_occur['MONTH'], bins, labels=group_names)"
   ]
  },
  {
   "cell_type": "code",
   "execution_count": 16,
   "metadata": {
    "collapsed": true
   },
   "outputs": [],
   "source": [
    "final = month_occur.groupby('categories')['CycNo'].count().reset_index()"
   ]
  },
  {
   "cell_type": "code",
   "execution_count": 17,
   "metadata": {
    "collapsed": true
   },
   "outputs": [],
   "source": [
    "final['percentage'] = final['CycNo']/final['CycNo'].sum()"
   ]
  },
  {
   "cell_type": "code",
   "execution_count": 18,
   "metadata": {
    "collapsed": true
   },
   "outputs": [],
   "source": [
    "final['percentage'] = final['percentage'].map('{:.1%}'.format)"
   ]
  },
  {
   "cell_type": "code",
   "execution_count": 19,
   "metadata": {
    "collapsed": true
   },
   "outputs": [],
   "source": [
    "final.columns = ['Month', 'Number of Typhoons', 'Percentage']"
   ]
  },
  {
   "cell_type": "code",
   "execution_count": 20,
   "metadata": {
    "scrolled": false
   },
   "outputs": [
    {
     "data": {
      "text/html": [
       "<div>\n",
       "<style>\n",
       "    .dataframe thead tr:only-child th {\n",
       "        text-align: right;\n",
       "    }\n",
       "\n",
       "    .dataframe thead th {\n",
       "        text-align: left;\n",
       "    }\n",
       "\n",
       "    .dataframe tbody tr th {\n",
       "        vertical-align: top;\n",
       "    }\n",
       "</style>\n",
       "<table border=\"1\" class=\"dataframe\">\n",
       "  <thead>\n",
       "    <tr style=\"text-align: right;\">\n",
       "      <th></th>\n",
       "      <th>Month</th>\n",
       "      <th>Number of Typhoons</th>\n",
       "      <th>Percentage</th>\n",
       "    </tr>\n",
       "  </thead>\n",
       "  <tbody>\n",
       "    <tr>\n",
       "      <th>0</th>\n",
       "      <td>Jan-March</td>\n",
       "      <td>10</td>\n",
       "      <td>1.2%</td>\n",
       "    </tr>\n",
       "    <tr>\n",
       "      <th>1</th>\n",
       "      <td>April-June</td>\n",
       "      <td>105</td>\n",
       "      <td>12.9%</td>\n",
       "    </tr>\n",
       "    <tr>\n",
       "      <th>2</th>\n",
       "      <td>July-Sep</td>\n",
       "      <td>423</td>\n",
       "      <td>52.1%</td>\n",
       "    </tr>\n",
       "    <tr>\n",
       "      <th>3</th>\n",
       "      <td>October-December</td>\n",
       "      <td>274</td>\n",
       "      <td>33.7%</td>\n",
       "    </tr>\n",
       "  </tbody>\n",
       "</table>\n",
       "</div>"
      ],
      "text/plain": [
       "              Month  Number of Typhoons Percentage\n",
       "0         Jan-March                  10       1.2%\n",
       "1        April-June                 105      12.9%\n",
       "2          July-Sep                 423      52.1%\n",
       "3  October-December                 274      33.7%"
      ]
     },
     "execution_count": 20,
     "metadata": {},
     "output_type": "execute_result"
    }
   ],
   "source": [
    "final"
   ]
  },
  {
   "cell_type": "code",
   "execution_count": null,
   "metadata": {
    "collapsed": true
   },
   "outputs": [],
   "source": []
  }
 ],
 "metadata": {
  "kernelspec": {
   "display_name": "Python 2",
   "language": "python",
   "name": "python2"
  },
  "language_info": {
   "codemirror_mode": {
    "name": "ipython",
    "version": 3
   },
   "file_extension": ".py",
   "mimetype": "text/x-python",
   "name": "python",
   "nbconvert_exporter": "python",
   "pygments_lexer": "ipython3",
   "version": "3.6.1"
  }
 },
 "nbformat": 4,
 "nbformat_minor": 2
}
