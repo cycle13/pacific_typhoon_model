{
 "cells": [
  {
   "cell_type": "code",
   "execution_count": 40,
   "metadata": {
    "collapsed": true
   },
   "outputs": [],
   "source": [
    "import pandas as pd\n",
    "import numpy as np"
   ]
  },
  {
   "cell_type": "code",
   "execution_count": 41,
   "metadata": {
    "collapsed": true
   },
   "outputs": [],
   "source": [
    "dataset = pd.read_csv('Data/IBTrACS/ibtrac.csv')"
   ]
  },
  {
   "cell_type": "code",
   "execution_count": 42,
   "metadata": {
    "collapsed": true
   },
   "outputs": [],
   "source": [
    "#------------------------------------------------------------------------------------------#\n",
    "LAT_MIN         = 13.0 # degrees North\n",
    "LAT_MAX         = 30.0\n",
    "LON_MIN         = 120.0 # degrees East\n",
    "LON_MAX         = 153.0\n",
    "#------------------------------------------------------------------------------------------#"
   ]
  },
  {
   "cell_type": "code",
   "execution_count": 43,
   "metadata": {
    "collapsed": true
   },
   "outputs": [],
   "source": [
    "dataset['A_VMAX'] = 0.1884 * dataset['VMAX']**1.288\n",
    "dataset['VMAX2'] = 0\n",
    "dataset.loc[dataset['YEAR'] < 1968, 'VMAX2'] = 0.4 * dataset['VMAX'] + 0.6 * dataset['A_VMAX']\n",
    "dataset.loc[dataset['YEAR'].between(1968,1972), 'VMAX2'] = 0.8 * dataset['VMAX'] + 0.2 * dataset['A_VMAX']\n",
    "dataset.loc[dataset['YEAR'] > 1972, 'VMAX2'] = dataset['VMAX']\n",
    "\n",
    "# Determine max wind of the each cyclone\n",
    "max_wind = dataset.groupby('CycNo')['VMAX2'].max().rename('VMAX2').reset_index()\n",
    "\n",
    "# Remove cyclones with maximum windspeed lower than typhoon 64 knots\n",
    "max_wind = max_wind[max_wind['VMAX2']>64]\n",
    "\n",
    "# Keep relevant cyclones\n",
    "dataset = dataset[dataset['CycNo'].isin(max_wind['CycNo'])]"
   ]
  },
  {
   "cell_type": "code",
   "execution_count": null,
   "metadata": {
    "collapsed": true
   },
   "outputs": [],
   "source": []
  },
  {
   "cell_type": "code",
   "execution_count": null,
   "metadata": {
    "collapsed": true
   },
   "outputs": [],
   "source": []
  },
  {
   "cell_type": "code",
   "execution_count": 37,
   "metadata": {
    "collapsed": true
   },
   "outputs": [],
   "source": [
    "def region_check(row):\n",
    "    lat = row['LAT']\n",
    "    lon = row['LON']\n",
    "    \n",
    "    if lat <= LAT_MAX and lat >= LAT_MIN and lon <= LON_MAX and lon >= LON_MIN:\n",
    "        return True\n",
    "    else:\n",
    "        return False\n",
    "\n",
    "dataset['REGION'] = dataset.apply(region_check, axis = 1)\n",
    "\n",
    "def region_check2(series):\n",
    "    if any(series['REGION']):\n",
    "        return True\n",
    "    else:\n",
    "        return False\n",
    "\n",
    "region_result = dataset.groupby('CycNo').apply(region_check2)\n",
    "\n",
    "dataset = dataset.merge(region_result.rename('REGION2').reset_index(), on ='CycNo', how='inner')\n",
    "# Select only data in the region\n",
    "dataset = dataset[dataset['REGION2']==True]"
   ]
  },
  {
   "cell_type": "code",
   "execution_count": 44,
   "metadata": {
    "collapsed": true
   },
   "outputs": [],
   "source": [
    "dataset = dataset.drop('VMAX', axis=1)\n",
    "dataset = dataset.rename(columns={'VMAX2': 'VMAX'})"
   ]
  },
  {
   "cell_type": "code",
   "execution_count": 45,
   "metadata": {},
   "outputs": [
    {
     "data": {
      "text/plain": [
       "939"
      ]
     },
     "execution_count": 45,
     "metadata": {},
     "output_type": "execute_result"
    }
   ],
   "source": [
    "dataset['CycNo'].nunique()"
   ]
  },
  {
   "cell_type": "code",
   "execution_count": 32,
   "metadata": {
    "collapsed": true
   },
   "outputs": [],
   "source": [
    "dataset.to_csv('clean_ibtrac.csv', index=False)"
   ]
  },
  {
   "cell_type": "code",
   "execution_count": null,
   "metadata": {
    "collapsed": true
   },
   "outputs": [],
   "source": []
  }
 ],
 "metadata": {
  "kernelspec": {
   "display_name": "Python 2",
   "language": "python",
   "name": "python2"
  },
  "language_info": {
   "codemirror_mode": {
    "name": "ipython",
    "version": 3
   },
   "file_extension": ".py",
   "mimetype": "text/x-python",
   "name": "python",
   "nbconvert_exporter": "python",
   "pygments_lexer": "ipython3",
   "version": "3.6.1"
  }
 },
 "nbformat": 4,
 "nbformat_minor": 2
}
